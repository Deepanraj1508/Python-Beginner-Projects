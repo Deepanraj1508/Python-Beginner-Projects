{
  "nbformat": 4,
  "nbformat_minor": 0,
  "metadata": {
    "colab": {
      "provenance": [],
      "collapsed_sections": [
        "xeqfTIYmLf1S",
        "mvaHTVZJLvSw",
        "yMSZDlgmMPts",
        "RGsPgRarRTVB",
        "Li-ti4YXRhfG",
        "ImFG5nahRlgM",
        "1RtIKGWYR2F5",
        "e-0WlGufSDtR",
        "Fv7_Bks4SJXu",
        "t2fqxV1FSRTx",
        "FbTbZ2HsSune",
        "f-wAcQoOTFvy",
        "3fhkCKFSTop6"
      ],
      "include_colab_link": true
    },
    "kernelspec": {
      "name": "python3",
      "display_name": "Python 3"
    },
    "language_info": {
      "name": "python"
    }
  },
  "cells": [
    {
      "cell_type": "markdown",
      "metadata": {
        "id": "view-in-github",
        "colab_type": "text"
      },
      "source": [
        "<a href=\"https://colab.research.google.com/github/Deepanraj1508/Python-Beginner-Projects/blob/main/20_MiniProjects_Beginner.ipynb\" target=\"_parent\"><img src=\"https://colab.research.google.com/assets/colab-badge.svg\" alt=\"Open In Colab\"/></a>"
      ]
    },
    {
      "cell_type": "markdown",
      "source": [
        "# 1. Find Minimum"
      ],
      "metadata": {
        "id": "xeqfTIYmLf1S"
      }
    },
    {
      "cell_type": "code",
      "execution_count": null,
      "metadata": {
        "colab": {
          "base_uri": "https://localhost:8080/"
        },
        "id": "UIgD5jeuLRnV",
        "outputId": "e802d975-1ebd-4151-aa82-0729bc076ab2"
      },
      "outputs": [
        {
          "output_type": "stream",
          "name": "stdout",
          "text": [
            "Minimum Number :  2\n"
          ]
        }
      ],
      "source": [
        "def find_minimum(numbers):\n",
        "    minimum = numbers[0]\n",
        "    for num in numbers:\n",
        "        if num < minimum:\n",
        "            minimum = num\n",
        "    return minimum\n",
        "\n",
        "# Example usage:\n",
        "a = [222, 33, 4, 3, 55, 2, 4, 33, 90]\n",
        "print(\"Minimum Number : \",find_minimum(a))"
      ]
    },
    {
      "cell_type": "markdown",
      "source": [
        "# 2. Find Maximum"
      ],
      "metadata": {
        "id": "mvaHTVZJLvSw"
      }
    },
    {
      "cell_type": "code",
      "source": [
        "def find_maximum(numbers):\n",
        "    maximum = numbers[0]\n",
        "    for num in numbers:\n",
        "        if num > maximum:\n",
        "            maximum = num\n",
        "    return maximum\n",
        "\n",
        "# Example usage:\n",
        "a = [222, 33, 4, 3, 55, 2, 4, 33, 90]\n",
        "print(\"Maximum Number : \",find_maximum(a))"
      ],
      "metadata": {
        "colab": {
          "base_uri": "https://localhost:8080/"
        },
        "id": "V25jRqYWLn0R",
        "outputId": "70f3e62e-1e4a-469c-e36e-d6921d40ed68"
      },
      "execution_count": null,
      "outputs": [
        {
          "output_type": "stream",
          "name": "stdout",
          "text": [
            "Maximum Number :  222\n"
          ]
        }
      ]
    },
    {
      "cell_type": "markdown",
      "source": [
        "# 3. Acronyms using python"
      ],
      "metadata": {
        "id": "yMSZDlgmMPts"
      }
    },
    {
      "cell_type": "code",
      "source": [
        "user_input = str(input(\"Enter a Phrase: \"))\n",
        "text = user_input.split()\n",
        "\n",
        "a = \" \"\n",
        "for i in text:\n",
        "    a = a+str(i[0]).upper()\n",
        "print(a)"
      ],
      "metadata": {
        "colab": {
          "base_uri": "https://localhost:8080/"
        },
        "id": "evjSH122MFoL",
        "outputId": "d08259fb-7e7a-4cd0-fadc-ca7589f773e1"
      },
      "execution_count": null,
      "outputs": [
        {
          "output_type": "stream",
          "name": "stdout",
          "text": [
            "Enter a Phrase: deepan\n",
            " D\n"
          ]
        }
      ]
    },
    {
      "cell_type": "markdown",
      "source": [
        "# 4. Password Validator"
      ],
      "metadata": {
        "id": "RGsPgRarRTVB"
      }
    },
    {
      "cell_type": "code",
      "source": [
        "valid_password = 'secure123'\n",
        "for _ in iter(lambda: input(\"Enter password: \"), valid_password):\n",
        "    print(\"Invalid password. Try again.\")\n",
        "\n",
        "print(\"Access granted! You entered the correct password.\")"
      ],
      "metadata": {
        "colab": {
          "base_uri": "https://localhost:8080/"
        },
        "id": "9hkH4RigRVGe",
        "outputId": "7be5ac1d-778c-49eb-d2f4-dc2b4f58a4e0"
      },
      "execution_count": null,
      "outputs": [
        {
          "output_type": "stream",
          "name": "stdout",
          "text": [
            "Enter password: secure123\n",
            "Access granted! You entered the correct password.\n"
          ]
        }
      ]
    },
    {
      "cell_type": "markdown",
      "source": [
        "# 5. Character Frequency Counter"
      ],
      "metadata": {
        "id": "Li-ti4YXRhfG"
      }
    },
    {
      "cell_type": "code",
      "source": [
        "# Get user input for a word or sentence\n",
        "data = str(input(\"Enter the Word or Sentence: \"))\n",
        "\n",
        "# Initialize an empty dictionary to store the frequency of each character\n",
        "all_freq = {}\n",
        "\n",
        "# Iterate through each character in the input string\n",
        "for i in data:\n",
        "    # Check if the character is already in the dictionary\n",
        "    if i in all_freq:\n",
        "        # If it's already present, increment its count\n",
        "        all_freq[i] += 1\n",
        "    else:\n",
        "        # If it's not present, add it to the dictionary with a count of 1\n",
        "        all_freq[i] = 1\n",
        "\n",
        "# Print the result - count of all characters in the input string\n",
        "print(\"Count of all characters in \" + str(data) + \" is:\\n\" + str(all_freq))\n"
      ],
      "metadata": {
        "id": "3xa-lGLZRXJa"
      },
      "execution_count": null,
      "outputs": []
    },
    {
      "cell_type": "markdown",
      "source": [
        "# 6. Guessing number"
      ],
      "metadata": {
        "id": "ImFG5nahRlgM"
      }
    },
    {
      "cell_type": "code",
      "source": [
        "import random\n",
        "\n",
        "def guess_the_number():\n",
        "    secret_number = random.randint(1, 20)\n",
        "    attempts = 0\n",
        "\n",
        "    print(\"Welcome to the Number Guessing Game!\")\n",
        "    print(\"Guess a number between 1 and 20.\")\n",
        "\n",
        "    while True:\n",
        "        user_guess = int(input(\"Enter your guess: \"))\n",
        "        attempts += 1\n",
        "\n",
        "        if user_guess == secret_number:\n",
        "            print(f\"Congratulations! You guessed the correct number {secret_number} in {attempts} attempts.\")\n",
        "            break\n",
        "        elif user_guess < secret_number:\n",
        "            print(\"Too low! Try again.\")\n",
        "        else:\n",
        "            print(\"Too high! Try again.\")\n",
        "\n",
        "if __name__ == \"__main__\":\n",
        "\n",
        "    guess_the_number()"
      ],
      "metadata": {
        "id": "DZeL8qbLRrWw"
      },
      "execution_count": null,
      "outputs": []
    },
    {
      "cell_type": "markdown",
      "source": [
        "# 7. Roll a Dice"
      ],
      "metadata": {
        "id": "1RtIKGWYR2F5"
      }
    },
    {
      "cell_type": "code",
      "source": [
        "import random\n",
        "\n",
        "def roll_die():\n",
        "    return random.randint(1, 6)\n",
        "\n",
        "def main():\n",
        "    print(\"Welcome to the Dice Rolling Simulator!\")\n",
        "\n",
        "    while True:\n",
        "        input(\"Press Enter to roll the die...\")\n",
        "        result = roll_die()\n",
        "        print(f\"You rolled: {result}\")\n",
        "\n",
        "        play_again = input(\"Do you want to roll again? (yes/no): \").lower()\n",
        "        if play_again != \"yes\":\n",
        "            print(\"Exiting the Dice Rolling Simulator. Goodbye!\")\n",
        "            break\n",
        "\n",
        "if __name__== \"__main__\":\n",
        "    main()"
      ],
      "metadata": {
        "id": "_UP-vp9jR70H"
      },
      "execution_count": null,
      "outputs": []
    },
    {
      "cell_type": "markdown",
      "source": [
        "# 8. Countdown Timer"
      ],
      "metadata": {
        "id": "e-0WlGufSDtR"
      }
    },
    {
      "cell_type": "code",
      "source": [
        "# import the time module\n",
        "import time\n",
        "\n",
        "# define the countdown func.\n",
        "def countdown(t):\n",
        "    while t:\n",
        "        mins, secs = divmod(t, 60)\n",
        "        timer = '{:02d}:{:02d}'.format(mins, secs)\n",
        "        print(timer, end=\"\\n\")\n",
        "        time.sleep(1)\n",
        "        t -= 1\n",
        "\n",
        "    print('Times up!')\n",
        "\n",
        "# input time in seconds\n",
        "t = int(input(\"Enter the time in seconds: \"))\n",
        "\n",
        "# function call\n",
        "countdown(t)"
      ],
      "metadata": {
        "id": "T63DWrqCSFGr"
      },
      "execution_count": null,
      "outputs": []
    },
    {
      "cell_type": "markdown",
      "source": [
        "# 9. Password Generator"
      ],
      "metadata": {
        "id": "Fv7_Bks4SJXu"
      }
    },
    {
      "cell_type": "code",
      "source": [
        "import random\n",
        "import string\n",
        "\n",
        "def generate_password(length=12, include_digits=True, include_special_chars=True):\n",
        "    # Define character sets\n",
        "    characters = string.ascii_letters\n",
        "    if include_digits:\n",
        "        characters += string.digits\n",
        "    if include_special_chars:\n",
        "        characters += string.punctuation\n",
        "\n",
        "    # Generate password\n",
        "    password = ''.join(random.choice(characters) for _ in range(length))\n",
        "    return password\n",
        "\n",
        "# Example: Generate a password with default settings\n",
        "password = generate_password()\n",
        "print(\"Generated Password:\", password)"
      ],
      "metadata": {
        "id": "iWgZRruWSOz7"
      },
      "execution_count": null,
      "outputs": []
    },
    {
      "cell_type": "markdown",
      "source": [
        "# 10. Calculate_rectangle_area"
      ],
      "metadata": {
        "id": "t2fqxV1FSRTx"
      }
    },
    {
      "cell_type": "code",
      "source": [
        "def calculate_rectangle_area(length, width):\n",
        "    area = length * width\n",
        "    return area\n",
        "\n",
        "def calculate_total_area(num_rectangles):\n",
        "    total_area = 0\n",
        "\n",
        "    for i in range(num_rectangles):\n",
        "        print(f\"\\nRectangle {i + 1}\")\n",
        "        length = float(input(\"Enter the length: \"))\n",
        "        width = float(input(\"Enter the width: \"))\n",
        "        area = calculate_rectangle_area(length, width)\n",
        "        total_area += area\n",
        "\n",
        "    return total_area\n",
        "\n",
        "# User input for the number of rectangles\n",
        "num_rectangles = int(input(\"Enter the number of rectangles: \"))\n",
        "\n",
        "# Calculate and display the total area\n",
        "total_area = calculate_total_area(num_rectangles)\n",
        "print(f\"\\nThe total area of all rectangles is: {total_area}\")"
      ],
      "metadata": {
        "id": "hkmENNrbSXub"
      },
      "execution_count": null,
      "outputs": []
    },
    {
      "cell_type": "markdown",
      "source": [
        "# 11. BMI calculator"
      ],
      "metadata": {
        "id": "FbTbZ2HsSune"
      }
    },
    {
      "cell_type": "code",
      "source": [
        "Height=float(input(\"Enter your height in centimeters: \"))\n",
        "Weight=float(input(\"Enter your Weight in Kg: \"))\n",
        "Height = Height/100\n",
        "BMI=Weight/(Height*Height)\n",
        "print(\"your Body Mass Index is: \",BMI)\n",
        "if(BMI>0):\n",
        "\tif(BMI<=16):\n",
        "\t\tprint(\"you are severely underweight\")\n",
        "\telif(BMI<=18.5):\n",
        "\t\tprint(\"you are underweight\")\n",
        "\telif(BMI<=25):\n",
        "\t\tprint(\"you are Healthy\")\n",
        "\telif(BMI<=30):\n",
        "\t\tprint(\"you are overweight\")\n",
        "\telse: print(\"you are severely overweight\")\n",
        "else:(\"enter valid details\")"
      ],
      "metadata": {
        "id": "5fY790RBS1ed"
      },
      "execution_count": null,
      "outputs": []
    },
    {
      "cell_type": "markdown",
      "source": [
        "# 12. Email Generator"
      ],
      "metadata": {
        "id": "f-wAcQoOTFvy"
      }
    },
    {
      "cell_type": "code",
      "source": [
        "import random\n",
        "import string\n",
        "\n",
        "def generate_email():\n",
        "    # Generating a random username\n",
        "    username = ''.join(random.choice(string.ascii_lowercase + string.digits) for _ in range(8))\n",
        "    # username = ''.join(random.choice(string.ascii_lowercase) for _ in range(8))\n",
        "\n",
        "    # Generating a random domain\n",
        "    domain = 'gmail.com'\n",
        "    # domains = ['gmail.com', 'yahoo.com', 'hotmail.com', 'example.com']\n",
        "    # domain = random.choice(domains)\n",
        "\n",
        "    # Combining username and domain to create the email address\n",
        "    email = f'{username}@{domain}'\n",
        "\n",
        "    return email\n",
        "\n",
        "# Example usage\n",
        "random_email = generate_email()\n",
        "print(f\"Random Email Address: {random_email}\")\n"
      ],
      "metadata": {
        "id": "9wlo8QjfTLBK"
      },
      "execution_count": null,
      "outputs": []
    },
    {
      "cell_type": "markdown",
      "source": [
        "# 13. OTP Verification"
      ],
      "metadata": {
        "id": "3fhkCKFSTop6"
      }
    },
    {
      "cell_type": "code",
      "source": [
        "import random\n",
        "\n",
        "def otp_verification():\n",
        "    def generate_otp():\n",
        "        # Generate a 6-digit OTP\n",
        "        return ''.join([str(random.randint(0, 9)) for _ in range(6)])\n",
        "\n",
        "    def verify_otp(expected_otp, entered_otp):\n",
        "        return expected_otp == entered_otp\n",
        "\n",
        "    # Step 1: Generate and send OTP\n",
        "    generated_otp = generate_otp()\n",
        "    print(f\"Generated OTP: {generated_otp}\")\n",
        "\n",
        "    # Step 2: User enters OTP\n",
        "    entered_otp = input(\"Enter OTP: \")\n",
        "\n",
        "    # Step 3: Verify OTP\n",
        "    if verify_otp(generated_otp, entered_otp):\n",
        "        return \"OTP Verification Successful!\"\n",
        "    else:\n",
        "        return \"Incorrect OTP. Verification Failed.\"\n",
        "\n",
        "# Example usage\n",
        "result = otp_verification()\n",
        "print(result)"
      ],
      "metadata": {
        "id": "bXAccQnETqUu"
      },
      "execution_count": null,
      "outputs": []
    },
    {
      "cell_type": "markdown",
      "source": [
        "# 14. Prime Number"
      ],
      "metadata": {
        "id": "QVFJXa7hVAUC"
      }
    },
    {
      "cell_type": "code",
      "source": [
        "def is_prime(number):\n",
        "    if number <= 1:\n",
        "        return False\n",
        "    for i in range(2, int(number**0.5) + 1):\n",
        "        if number % i == 0:\n",
        "            return False\n",
        "    return True\n",
        "\n",
        "# Example usage:\n",
        "num = int(input(\"Enter a number: \"))\n",
        "if is_prime(num):\n",
        "    print(f\"{num} is a prime number.\")\n",
        "else:\n",
        "    print(f\"{num} is not a prime number.\")"
      ],
      "metadata": {
        "colab": {
          "base_uri": "https://localhost:8080/"
        },
        "id": "_V4wU46yVCAI",
        "outputId": "9820b247-3066-479b-c5c6-7127073211a9"
      },
      "execution_count": null,
      "outputs": [
        {
          "output_type": "stream",
          "name": "stdout",
          "text": [
            "Enter a number: 34\n",
            "34 is not a prime number.\n"
          ]
        }
      ]
    },
    {
      "cell_type": "markdown",
      "source": [
        "# 15. Odd or Even"
      ],
      "metadata": {
        "id": "jzwJfRbrXw__"
      }
    },
    {
      "cell_type": "code",
      "source": [
        "def check_odd_even(number):\n",
        "    if number % 2 == 0:\n",
        "        return \"Even\"\n",
        "    else:\n",
        "        return \"Odd\"\n",
        "\n",
        "# Example usage:\n",
        "user_input = int(input(\"Enter a number: \"))\n",
        "result = check_odd_even(user_input)\n",
        "print(f\"The number {user_input} is {result}.\")\n"
      ],
      "metadata": {
        "id": "wvngvvfjXwtg"
      },
      "execution_count": null,
      "outputs": []
    },
    {
      "cell_type": "markdown",
      "source": [
        "# 16. String is Palindrome"
      ],
      "metadata": {
        "id": "nHQzYhhsYY9C"
      }
    },
    {
      "cell_type": "code",
      "source": [
        "def isPalindrome(s):\n",
        "    return s == s[::-1]\n",
        "\n",
        "\n",
        "# Driver code\n",
        "s = \"malayalam\"\n",
        "ans = isPalindrome(s)\n",
        "\n",
        "if ans:\n",
        "    print(\"Yes\")\n",
        "else:\n",
        "    print(\"No\")"
      ],
      "metadata": {
        "id": "uojgGTCZYahp"
      },
      "execution_count": null,
      "outputs": []
    },
    {
      "cell_type": "markdown",
      "source": [
        "# 17. Sentence to finding length words"
      ],
      "metadata": {
        "id": "L0U87Rz6aMHD"
      }
    },
    {
      "cell_type": "code",
      "source": [
        "\n",
        "# Getting input from user\n",
        "myStr =  input('Enter the string : ')\n",
        "length = int(input('Enter word length (value for accepting string) : '))\n",
        "largerStrings = []\n",
        "\n",
        "# Finding words with length greater than k\n",
        "words = myStr.split(\" \")\n",
        "for word in words:\n",
        "\tif len(word) > length:\n",
        "\t\tlargerStrings.append(word)\n",
        "\n",
        "# printing values\n",
        "print(\"All words which are greater than given length \", length, \"are \", largerStrings)\n"
      ],
      "metadata": {
        "colab": {
          "base_uri": "https://localhost:8080/"
        },
        "id": "3brzixh3aL2W",
        "outputId": "937c9976-2073-4622-bdab-18a2a2e7c75f"
      },
      "execution_count": null,
      "outputs": [
        {
          "output_type": "stream",
          "name": "stdout",
          "text": [
            "Enter the string : Python string is the collection of the characters surrounded by single quotes, double quotes, or triple quotes. The computer does not understand the characters;\n",
            "Enter word length (value for accepting string) : 9\n",
            "All words which are greater than given length  9 are  ['collection', 'characters', 'surrounded', 'understand', 'characters;']\n"
          ]
        }
      ]
    },
    {
      "cell_type": "markdown",
      "source": [
        "# 18. Permutations of a given string"
      ],
      "metadata": {
        "id": "K_6ssD1Mbtyg"
      }
    },
    {
      "cell_type": "code",
      "source": [
        "from itertools import permutations\n",
        "\n",
        "def find_permutations(input_str):\n",
        "    # Generate all permutations of the input string\n",
        "    perms = permutations(input_str)\n",
        "\n",
        "    # Convert the permutations to a list of strings\n",
        "    perm_list = [''.join(p) for p in perms]\n",
        "\n",
        "    return perm_list, len(perm_list)\n",
        "\n",
        "# Example usage:\n",
        "input_string = \"abc\"\n",
        "result, total_count = find_permutations(input_string)\n",
        "\n",
        "print(\"Permutations of '{}': {}\".format(input_string, result))\n",
        "print(\"Total count of permutations: {}\".format(total_count))\n"
      ],
      "metadata": {
        "colab": {
          "base_uri": "https://localhost:8080/"
        },
        "id": "0LRAUV2vaPHO",
        "outputId": "64216d14-55a3-425a-b5a9-2e380b47eeda"
      },
      "execution_count": null,
      "outputs": [
        {
          "output_type": "stream",
          "name": "stdout",
          "text": [
            "Permutations of 'abc': ['abc', 'acb', 'bac', 'bca', 'cab', 'cba']\n",
            "Total count of permutations: 6\n"
          ]
        }
      ]
    },
    {
      "cell_type": "markdown",
      "source": [
        "# 19. Fibonacci sequence"
      ],
      "metadata": {
        "id": "bG9HeFiTcSLN"
      }
    },
    {
      "cell_type": "code",
      "source": [
        "def fibonacci_sequence(n):\n",
        "    fib_sequence = []\n",
        "    a, b = 0, 1\n",
        "\n",
        "    for _ in range(n):\n",
        "        fib_sequence.append(a)\n",
        "        a, b = b, a + b\n",
        "\n",
        "    return fib_sequence\n",
        "\n",
        "# Example usage:\n",
        "num_terms = 10  # You can change this to the number of terms you want in the sequence\n",
        "result = fibonacci_sequence(num_terms)\n",
        "\n",
        "print(\"Fibonacci sequence up to {} terms: {}\".format(num_terms, result))\n"
      ],
      "metadata": {
        "colab": {
          "base_uri": "https://localhost:8080/"
        },
        "id": "_cElnHhTbv17",
        "outputId": "5162dbac-e210-49f4-9ec0-d3bde8f2aa6d"
      },
      "execution_count": null,
      "outputs": [
        {
          "output_type": "stream",
          "name": "stdout",
          "text": [
            "Fibonacci sequence up to 10 terms: [0, 1, 1, 2, 3, 5, 8, 13, 21, 34]\n"
          ]
        }
      ]
    },
    {
      "cell_type": "markdown",
      "source": [
        "# 20. Voter ID age Calculation"
      ],
      "metadata": {
        "id": "ST1TR3bdjkh3"
      }
    },
    {
      "cell_type": "code",
      "source": [
        "from datetime import datetime\n",
        "\n",
        "def calculate_age(date_of_birth):\n",
        "    today = datetime.now()\n",
        "    birth_date = datetime.strptime(date_of_birth, \"%d-%m-%Y\")\n",
        "    age = today.year - birth_date.year - ((today.month, today.day) < (birth_date.month, birth_date.day))\n",
        "    return age\n",
        "\n",
        "def check_voter_eligibility(age, minimum_voting_age):\n",
        "    if age >= minimum_voting_age:\n",
        "        return \"Eligible to vote\"\n",
        "    else:\n",
        "        return \"Not eligible to vote\"\n",
        "\n",
        "# Set the minimum voting age\n",
        "minimum_voting_age = 18\n",
        "\n",
        "# Get the user's date of birth as input\n",
        "date_of_birth = input(\"Enter your date of birth (DD-MM-YYYY): \")\n",
        "\n",
        "# Calculate age\n",
        "age = calculate_age(date_of_birth)\n",
        "\n",
        "# Check eligibility and print the result\n",
        "result = check_voter_eligibility(age, minimum_voting_age)\n",
        "print(result)\n"
      ],
      "metadata": {
        "colab": {
          "base_uri": "https://localhost:8080/"
        },
        "id": "eYYZuAvTjn4z",
        "outputId": "35234916-bb88-4beb-8e2f-d2d4702fbe5d"
      },
      "execution_count": null,
      "outputs": [
        {
          "output_type": "stream",
          "name": "stdout",
          "text": [
            "Enter your date of birth (DD-MM-YYYY): 15-08-2002\n",
            "Eligible to vote\n"
          ]
        }
      ]
    }
  ]
}