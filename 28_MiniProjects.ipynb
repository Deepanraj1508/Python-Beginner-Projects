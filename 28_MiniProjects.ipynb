{
  "nbformat": 4,
  "nbformat_minor": 0,
  "metadata": {
    "colab": {
      "provenance": [],
      "collapsed_sections": [
        "AxXwnDLZc5Zu",
        "lFd9hNOadJj6",
        "3dzTO3BLdrVj",
        "CmKG7C6t2Vng",
        "dt_RhY6h3358",
        "fEYq_cvw7AMY",
        "PM0xVOQa7Euh",
        "q_O4H3Fg8e9S",
        "VEm6XQM971md",
        "UZ_vJeEOG1og",
        "IfctKH0CNpZb",
        "Bp15SVJOPrWM",
        "MUcFvqqaZOW0",
        "ot0AlZr-ac2d",
        "Puu_L4bpdFzG",
        "Ey9ZWb1ig0aD",
        "_0RSIZvyemH4",
        "woj9xMFMgNe7",
        "fOBX0a6Ii0xa",
        "AoQi0KfRBByJ",
        "KWP9klQvwtMU",
        "0po6sLD40cfU",
        "Ohe19sJF7QsL",
        "nAG9toag-gWQ",
        "ZufBW3u0Gu57",
        "HuW3LRB0sLvu"
      ],
      "include_colab_link": true
    },
    "kernelspec": {
      "name": "python3",
      "display_name": "Python 3"
    },
    "language_info": {
      "name": "python"
    },
    "widgets": {
      "application/vnd.jupyter.widget-state+json": {
        "04cb37bd288740629a575db6e8f520c3": {
          "model_module": "@jupyter-widgets/controls",
          "model_name": "HBoxModel",
          "model_module_version": "1.5.0",
          "state": {
            "_dom_classes": [],
            "_model_module": "@jupyter-widgets/controls",
            "_model_module_version": "1.5.0",
            "_model_name": "HBoxModel",
            "_view_count": null,
            "_view_module": "@jupyter-widgets/controls",
            "_view_module_version": "1.5.0",
            "_view_name": "HBoxView",
            "box_style": "",
            "children": [
              "IPY_MODEL_decefee70a8c42c2a03f4333d1f91bf2",
              "IPY_MODEL_f3d4d992e2c841f186a06659046f0f0f",
              "IPY_MODEL_65fdffb46e8a4681b8c410acf4a80da9"
            ],
            "layout": "IPY_MODEL_7135ffa74fd340bd9f0009588837571a"
          }
        },
        "decefee70a8c42c2a03f4333d1f91bf2": {
          "model_module": "@jupyter-widgets/controls",
          "model_name": "HTMLModel",
          "model_module_version": "1.5.0",
          "state": {
            "_dom_classes": [],
            "_model_module": "@jupyter-widgets/controls",
            "_model_module_version": "1.5.0",
            "_model_name": "HTMLModel",
            "_view_count": null,
            "_view_module": "@jupyter-widgets/controls",
            "_view_module_version": "1.5.0",
            "_view_name": "HTMLView",
            "description": "",
            "description_tooltip": null,
            "layout": "IPY_MODEL_89b3f439baa146878447dfa71a0b2e67",
            "placeholder": "​",
            "style": "IPY_MODEL_d5b1f74f3ded428987e42f68c7e819e3",
            "value": "config.json: 100%"
          }
        },
        "f3d4d992e2c841f186a06659046f0f0f": {
          "model_module": "@jupyter-widgets/controls",
          "model_name": "FloatProgressModel",
          "model_module_version": "1.5.0",
          "state": {
            "_dom_classes": [],
            "_model_module": "@jupyter-widgets/controls",
            "_model_module_version": "1.5.0",
            "_model_name": "FloatProgressModel",
            "_view_count": null,
            "_view_module": "@jupyter-widgets/controls",
            "_view_module_version": "1.5.0",
            "_view_name": "ProgressView",
            "bar_style": "success",
            "description": "",
            "description_tooltip": null,
            "layout": "IPY_MODEL_db900757729c43568869de710cc0f91e",
            "max": 665,
            "min": 0,
            "orientation": "horizontal",
            "style": "IPY_MODEL_bd31028d84bb49369cb8abea06ed5c6d",
            "value": 665
          }
        },
        "65fdffb46e8a4681b8c410acf4a80da9": {
          "model_module": "@jupyter-widgets/controls",
          "model_name": "HTMLModel",
          "model_module_version": "1.5.0",
          "state": {
            "_dom_classes": [],
            "_model_module": "@jupyter-widgets/controls",
            "_model_module_version": "1.5.0",
            "_model_name": "HTMLModel",
            "_view_count": null,
            "_view_module": "@jupyter-widgets/controls",
            "_view_module_version": "1.5.0",
            "_view_name": "HTMLView",
            "description": "",
            "description_tooltip": null,
            "layout": "IPY_MODEL_0ce0fc9ae5aa44ca8bf9910ec92dd866",
            "placeholder": "​",
            "style": "IPY_MODEL_2a1b39b47956421d8d9167abca1a35a6",
            "value": " 665/665 [00:00&lt;00:00, 22.1kB/s]"
          }
        },
        "7135ffa74fd340bd9f0009588837571a": {
          "model_module": "@jupyter-widgets/base",
          "model_name": "LayoutModel",
          "model_module_version": "1.2.0",
          "state": {
            "_model_module": "@jupyter-widgets/base",
            "_model_module_version": "1.2.0",
            "_model_name": "LayoutModel",
            "_view_count": null,
            "_view_module": "@jupyter-widgets/base",
            "_view_module_version": "1.2.0",
            "_view_name": "LayoutView",
            "align_content": null,
            "align_items": null,
            "align_self": null,
            "border": null,
            "bottom": null,
            "display": null,
            "flex": null,
            "flex_flow": null,
            "grid_area": null,
            "grid_auto_columns": null,
            "grid_auto_flow": null,
            "grid_auto_rows": null,
            "grid_column": null,
            "grid_gap": null,
            "grid_row": null,
            "grid_template_areas": null,
            "grid_template_columns": null,
            "grid_template_rows": null,
            "height": null,
            "justify_content": null,
            "justify_items": null,
            "left": null,
            "margin": null,
            "max_height": null,
            "max_width": null,
            "min_height": null,
            "min_width": null,
            "object_fit": null,
            "object_position": null,
            "order": null,
            "overflow": null,
            "overflow_x": null,
            "overflow_y": null,
            "padding": null,
            "right": null,
            "top": null,
            "visibility": null,
            "width": null
          }
        },
        "89b3f439baa146878447dfa71a0b2e67": {
          "model_module": "@jupyter-widgets/base",
          "model_name": "LayoutModel",
          "model_module_version": "1.2.0",
          "state": {
            "_model_module": "@jupyter-widgets/base",
            "_model_module_version": "1.2.0",
            "_model_name": "LayoutModel",
            "_view_count": null,
            "_view_module": "@jupyter-widgets/base",
            "_view_module_version": "1.2.0",
            "_view_name": "LayoutView",
            "align_content": null,
            "align_items": null,
            "align_self": null,
            "border": null,
            "bottom": null,
            "display": null,
            "flex": null,
            "flex_flow": null,
            "grid_area": null,
            "grid_auto_columns": null,
            "grid_auto_flow": null,
            "grid_auto_rows": null,
            "grid_column": null,
            "grid_gap": null,
            "grid_row": null,
            "grid_template_areas": null,
            "grid_template_columns": null,
            "grid_template_rows": null,
            "height": null,
            "justify_content": null,
            "justify_items": null,
            "left": null,
            "margin": null,
            "max_height": null,
            "max_width": null,
            "min_height": null,
            "min_width": null,
            "object_fit": null,
            "object_position": null,
            "order": null,
            "overflow": null,
            "overflow_x": null,
            "overflow_y": null,
            "padding": null,
            "right": null,
            "top": null,
            "visibility": null,
            "width": null
          }
        },
        "d5b1f74f3ded428987e42f68c7e819e3": {
          "model_module": "@jupyter-widgets/controls",
          "model_name": "DescriptionStyleModel",
          "model_module_version": "1.5.0",
          "state": {
            "_model_module": "@jupyter-widgets/controls",
            "_model_module_version": "1.5.0",
            "_model_name": "DescriptionStyleModel",
            "_view_count": null,
            "_view_module": "@jupyter-widgets/base",
            "_view_module_version": "1.2.0",
            "_view_name": "StyleView",
            "description_width": ""
          }
        },
        "db900757729c43568869de710cc0f91e": {
          "model_module": "@jupyter-widgets/base",
          "model_name": "LayoutModel",
          "model_module_version": "1.2.0",
          "state": {
            "_model_module": "@jupyter-widgets/base",
            "_model_module_version": "1.2.0",
            "_model_name": "LayoutModel",
            "_view_count": null,
            "_view_module": "@jupyter-widgets/base",
            "_view_module_version": "1.2.0",
            "_view_name": "LayoutView",
            "align_content": null,
            "align_items": null,
            "align_self": null,
            "border": null,
            "bottom": null,
            "display": null,
            "flex": null,
            "flex_flow": null,
            "grid_area": null,
            "grid_auto_columns": null,
            "grid_auto_flow": null,
            "grid_auto_rows": null,
            "grid_column": null,
            "grid_gap": null,
            "grid_row": null,
            "grid_template_areas": null,
            "grid_template_columns": null,
            "grid_template_rows": null,
            "height": null,
            "justify_content": null,
            "justify_items": null,
            "left": null,
            "margin": null,
            "max_height": null,
            "max_width": null,
            "min_height": null,
            "min_width": null,
            "object_fit": null,
            "object_position": null,
            "order": null,
            "overflow": null,
            "overflow_x": null,
            "overflow_y": null,
            "padding": null,
            "right": null,
            "top": null,
            "visibility": null,
            "width": null
          }
        },
        "bd31028d84bb49369cb8abea06ed5c6d": {
          "model_module": "@jupyter-widgets/controls",
          "model_name": "ProgressStyleModel",
          "model_module_version": "1.5.0",
          "state": {
            "_model_module": "@jupyter-widgets/controls",
            "_model_module_version": "1.5.0",
            "_model_name": "ProgressStyleModel",
            "_view_count": null,
            "_view_module": "@jupyter-widgets/base",
            "_view_module_version": "1.2.0",
            "_view_name": "StyleView",
            "bar_color": null,
            "description_width": ""
          }
        },
        "0ce0fc9ae5aa44ca8bf9910ec92dd866": {
          "model_module": "@jupyter-widgets/base",
          "model_name": "LayoutModel",
          "model_module_version": "1.2.0",
          "state": {
            "_model_module": "@jupyter-widgets/base",
            "_model_module_version": "1.2.0",
            "_model_name": "LayoutModel",
            "_view_count": null,
            "_view_module": "@jupyter-widgets/base",
            "_view_module_version": "1.2.0",
            "_view_name": "LayoutView",
            "align_content": null,
            "align_items": null,
            "align_self": null,
            "border": null,
            "bottom": null,
            "display": null,
            "flex": null,
            "flex_flow": null,
            "grid_area": null,
            "grid_auto_columns": null,
            "grid_auto_flow": null,
            "grid_auto_rows": null,
            "grid_column": null,
            "grid_gap": null,
            "grid_row": null,
            "grid_template_areas": null,
            "grid_template_columns": null,
            "grid_template_rows": null,
            "height": null,
            "justify_content": null,
            "justify_items": null,
            "left": null,
            "margin": null,
            "max_height": null,
            "max_width": null,
            "min_height": null,
            "min_width": null,
            "object_fit": null,
            "object_position": null,
            "order": null,
            "overflow": null,
            "overflow_x": null,
            "overflow_y": null,
            "padding": null,
            "right": null,
            "top": null,
            "visibility": null,
            "width": null
          }
        },
        "2a1b39b47956421d8d9167abca1a35a6": {
          "model_module": "@jupyter-widgets/controls",
          "model_name": "DescriptionStyleModel",
          "model_module_version": "1.5.0",
          "state": {
            "_model_module": "@jupyter-widgets/controls",
            "_model_module_version": "1.5.0",
            "_model_name": "DescriptionStyleModel",
            "_view_count": null,
            "_view_module": "@jupyter-widgets/base",
            "_view_module_version": "1.2.0",
            "_view_name": "StyleView",
            "description_width": ""
          }
        },
        "31e2d6f643624167a8eea1860070d742": {
          "model_module": "@jupyter-widgets/controls",
          "model_name": "HBoxModel",
          "model_module_version": "1.5.0",
          "state": {
            "_dom_classes": [],
            "_model_module": "@jupyter-widgets/controls",
            "_model_module_version": "1.5.0",
            "_model_name": "HBoxModel",
            "_view_count": null,
            "_view_module": "@jupyter-widgets/controls",
            "_view_module_version": "1.5.0",
            "_view_name": "HBoxView",
            "box_style": "",
            "children": [
              "IPY_MODEL_ebd7d8d0c64343388643cb9c7992f14f",
              "IPY_MODEL_b3eddb9d6b964f1a81dc1ad63719ec09",
              "IPY_MODEL_6b8f4ce5c62c4637ba7408d02504a1d8"
            ],
            "layout": "IPY_MODEL_b5e2a0be7513434d8fd43fbad6f862c3"
          }
        },
        "ebd7d8d0c64343388643cb9c7992f14f": {
          "model_module": "@jupyter-widgets/controls",
          "model_name": "HTMLModel",
          "model_module_version": "1.5.0",
          "state": {
            "_dom_classes": [],
            "_model_module": "@jupyter-widgets/controls",
            "_model_module_version": "1.5.0",
            "_model_name": "HTMLModel",
            "_view_count": null,
            "_view_module": "@jupyter-widgets/controls",
            "_view_module_version": "1.5.0",
            "_view_name": "HTMLView",
            "description": "",
            "description_tooltip": null,
            "layout": "IPY_MODEL_7c72a50047164676a3a27847d123d471",
            "placeholder": "​",
            "style": "IPY_MODEL_4d45af545f1740d2954822269da26d76",
            "value": "model.safetensors: 100%"
          }
        },
        "b3eddb9d6b964f1a81dc1ad63719ec09": {
          "model_module": "@jupyter-widgets/controls",
          "model_name": "FloatProgressModel",
          "model_module_version": "1.5.0",
          "state": {
            "_dom_classes": [],
            "_model_module": "@jupyter-widgets/controls",
            "_model_module_version": "1.5.0",
            "_model_name": "FloatProgressModel",
            "_view_count": null,
            "_view_module": "@jupyter-widgets/controls",
            "_view_module_version": "1.5.0",
            "_view_name": "ProgressView",
            "bar_style": "success",
            "description": "",
            "description_tooltip": null,
            "layout": "IPY_MODEL_f4777baa814d4e17961f62678525b9d7",
            "max": 548105171,
            "min": 0,
            "orientation": "horizontal",
            "style": "IPY_MODEL_638ca50136bf42699b748e2bd345d28a",
            "value": 548105171
          }
        },
        "6b8f4ce5c62c4637ba7408d02504a1d8": {
          "model_module": "@jupyter-widgets/controls",
          "model_name": "HTMLModel",
          "model_module_version": "1.5.0",
          "state": {
            "_dom_classes": [],
            "_model_module": "@jupyter-widgets/controls",
            "_model_module_version": "1.5.0",
            "_model_name": "HTMLModel",
            "_view_count": null,
            "_view_module": "@jupyter-widgets/controls",
            "_view_module_version": "1.5.0",
            "_view_name": "HTMLView",
            "description": "",
            "description_tooltip": null,
            "layout": "IPY_MODEL_86c45433292e469f96345b34ae0ba82b",
            "placeholder": "​",
            "style": "IPY_MODEL_283aee11b4d64d43b88d0594ee95a161",
            "value": " 548M/548M [00:07&lt;00:00, 57.3MB/s]"
          }
        },
        "b5e2a0be7513434d8fd43fbad6f862c3": {
          "model_module": "@jupyter-widgets/base",
          "model_name": "LayoutModel",
          "model_module_version": "1.2.0",
          "state": {
            "_model_module": "@jupyter-widgets/base",
            "_model_module_version": "1.2.0",
            "_model_name": "LayoutModel",
            "_view_count": null,
            "_view_module": "@jupyter-widgets/base",
            "_view_module_version": "1.2.0",
            "_view_name": "LayoutView",
            "align_content": null,
            "align_items": null,
            "align_self": null,
            "border": null,
            "bottom": null,
            "display": null,
            "flex": null,
            "flex_flow": null,
            "grid_area": null,
            "grid_auto_columns": null,
            "grid_auto_flow": null,
            "grid_auto_rows": null,
            "grid_column": null,
            "grid_gap": null,
            "grid_row": null,
            "grid_template_areas": null,
            "grid_template_columns": null,
            "grid_template_rows": null,
            "height": null,
            "justify_content": null,
            "justify_items": null,
            "left": null,
            "margin": null,
            "max_height": null,
            "max_width": null,
            "min_height": null,
            "min_width": null,
            "object_fit": null,
            "object_position": null,
            "order": null,
            "overflow": null,
            "overflow_x": null,
            "overflow_y": null,
            "padding": null,
            "right": null,
            "top": null,
            "visibility": null,
            "width": null
          }
        },
        "7c72a50047164676a3a27847d123d471": {
          "model_module": "@jupyter-widgets/base",
          "model_name": "LayoutModel",
          "model_module_version": "1.2.0",
          "state": {
            "_model_module": "@jupyter-widgets/base",
            "_model_module_version": "1.2.0",
            "_model_name": "LayoutModel",
            "_view_count": null,
            "_view_module": "@jupyter-widgets/base",
            "_view_module_version": "1.2.0",
            "_view_name": "LayoutView",
            "align_content": null,
            "align_items": null,
            "align_self": null,
            "border": null,
            "bottom": null,
            "display": null,
            "flex": null,
            "flex_flow": null,
            "grid_area": null,
            "grid_auto_columns": null,
            "grid_auto_flow": null,
            "grid_auto_rows": null,
            "grid_column": null,
            "grid_gap": null,
            "grid_row": null,
            "grid_template_areas": null,
            "grid_template_columns": null,
            "grid_template_rows": null,
            "height": null,
            "justify_content": null,
            "justify_items": null,
            "left": null,
            "margin": null,
            "max_height": null,
            "max_width": null,
            "min_height": null,
            "min_width": null,
            "object_fit": null,
            "object_position": null,
            "order": null,
            "overflow": null,
            "overflow_x": null,
            "overflow_y": null,
            "padding": null,
            "right": null,
            "top": null,
            "visibility": null,
            "width": null
          }
        },
        "4d45af545f1740d2954822269da26d76": {
          "model_module": "@jupyter-widgets/controls",
          "model_name": "DescriptionStyleModel",
          "model_module_version": "1.5.0",
          "state": {
            "_model_module": "@jupyter-widgets/controls",
            "_model_module_version": "1.5.0",
            "_model_name": "DescriptionStyleModel",
            "_view_count": null,
            "_view_module": "@jupyter-widgets/base",
            "_view_module_version": "1.2.0",
            "_view_name": "StyleView",
            "description_width": ""
          }
        },
        "f4777baa814d4e17961f62678525b9d7": {
          "model_module": "@jupyter-widgets/base",
          "model_name": "LayoutModel",
          "model_module_version": "1.2.0",
          "state": {
            "_model_module": "@jupyter-widgets/base",
            "_model_module_version": "1.2.0",
            "_model_name": "LayoutModel",
            "_view_count": null,
            "_view_module": "@jupyter-widgets/base",
            "_view_module_version": "1.2.0",
            "_view_name": "LayoutView",
            "align_content": null,
            "align_items": null,
            "align_self": null,
            "border": null,
            "bottom": null,
            "display": null,
            "flex": null,
            "flex_flow": null,
            "grid_area": null,
            "grid_auto_columns": null,
            "grid_auto_flow": null,
            "grid_auto_rows": null,
            "grid_column": null,
            "grid_gap": null,
            "grid_row": null,
            "grid_template_areas": null,
            "grid_template_columns": null,
            "grid_template_rows": null,
            "height": null,
            "justify_content": null,
            "justify_items": null,
            "left": null,
            "margin": null,
            "max_height": null,
            "max_width": null,
            "min_height": null,
            "min_width": null,
            "object_fit": null,
            "object_position": null,
            "order": null,
            "overflow": null,
            "overflow_x": null,
            "overflow_y": null,
            "padding": null,
            "right": null,
            "top": null,
            "visibility": null,
            "width": null
          }
        },
        "638ca50136bf42699b748e2bd345d28a": {
          "model_module": "@jupyter-widgets/controls",
          "model_name": "ProgressStyleModel",
          "model_module_version": "1.5.0",
          "state": {
            "_model_module": "@jupyter-widgets/controls",
            "_model_module_version": "1.5.0",
            "_model_name": "ProgressStyleModel",
            "_view_count": null,
            "_view_module": "@jupyter-widgets/base",
            "_view_module_version": "1.2.0",
            "_view_name": "StyleView",
            "bar_color": null,
            "description_width": ""
          }
        },
        "86c45433292e469f96345b34ae0ba82b": {
          "model_module": "@jupyter-widgets/base",
          "model_name": "LayoutModel",
          "model_module_version": "1.2.0",
          "state": {
            "_model_module": "@jupyter-widgets/base",
            "_model_module_version": "1.2.0",
            "_model_name": "LayoutModel",
            "_view_count": null,
            "_view_module": "@jupyter-widgets/base",
            "_view_module_version": "1.2.0",
            "_view_name": "LayoutView",
            "align_content": null,
            "align_items": null,
            "align_self": null,
            "border": null,
            "bottom": null,
            "display": null,
            "flex": null,
            "flex_flow": null,
            "grid_area": null,
            "grid_auto_columns": null,
            "grid_auto_flow": null,
            "grid_auto_rows": null,
            "grid_column": null,
            "grid_gap": null,
            "grid_row": null,
            "grid_template_areas": null,
            "grid_template_columns": null,
            "grid_template_rows": null,
            "height": null,
            "justify_content": null,
            "justify_items": null,
            "left": null,
            "margin": null,
            "max_height": null,
            "max_width": null,
            "min_height": null,
            "min_width": null,
            "object_fit": null,
            "object_position": null,
            "order": null,
            "overflow": null,
            "overflow_x": null,
            "overflow_y": null,
            "padding": null,
            "right": null,
            "top": null,
            "visibility": null,
            "width": null
          }
        },
        "283aee11b4d64d43b88d0594ee95a161": {
          "model_module": "@jupyter-widgets/controls",
          "model_name": "DescriptionStyleModel",
          "model_module_version": "1.5.0",
          "state": {
            "_model_module": "@jupyter-widgets/controls",
            "_model_module_version": "1.5.0",
            "_model_name": "DescriptionStyleModel",
            "_view_count": null,
            "_view_module": "@jupyter-widgets/base",
            "_view_module_version": "1.2.0",
            "_view_name": "StyleView",
            "description_width": ""
          }
        },
        "73167777c52e4af9be7d6ea432da7f7f": {
          "model_module": "@jupyter-widgets/controls",
          "model_name": "HBoxModel",
          "model_module_version": "1.5.0",
          "state": {
            "_dom_classes": [],
            "_model_module": "@jupyter-widgets/controls",
            "_model_module_version": "1.5.0",
            "_model_name": "HBoxModel",
            "_view_count": null,
            "_view_module": "@jupyter-widgets/controls",
            "_view_module_version": "1.5.0",
            "_view_name": "HBoxView",
            "box_style": "",
            "children": [
              "IPY_MODEL_de57ba98426a484596b202f6206fd2d0",
              "IPY_MODEL_ffe2c5fac8bc483a9a5a6c37cfd25a7f",
              "IPY_MODEL_6b668e15175549198fefb6b74dae2013"
            ],
            "layout": "IPY_MODEL_70d94add25354ba6a3ff936dc8d06df6"
          }
        },
        "de57ba98426a484596b202f6206fd2d0": {
          "model_module": "@jupyter-widgets/controls",
          "model_name": "HTMLModel",
          "model_module_version": "1.5.0",
          "state": {
            "_dom_classes": [],
            "_model_module": "@jupyter-widgets/controls",
            "_model_module_version": "1.5.0",
            "_model_name": "HTMLModel",
            "_view_count": null,
            "_view_module": "@jupyter-widgets/controls",
            "_view_module_version": "1.5.0",
            "_view_name": "HTMLView",
            "description": "",
            "description_tooltip": null,
            "layout": "IPY_MODEL_9b0b25c221564caebb7006224fb2981b",
            "placeholder": "​",
            "style": "IPY_MODEL_32817d53cfac4c0d93209d816a6aede3",
            "value": "generation_config.json: 100%"
          }
        },
        "ffe2c5fac8bc483a9a5a6c37cfd25a7f": {
          "model_module": "@jupyter-widgets/controls",
          "model_name": "FloatProgressModel",
          "model_module_version": "1.5.0",
          "state": {
            "_dom_classes": [],
            "_model_module": "@jupyter-widgets/controls",
            "_model_module_version": "1.5.0",
            "_model_name": "FloatProgressModel",
            "_view_count": null,
            "_view_module": "@jupyter-widgets/controls",
            "_view_module_version": "1.5.0",
            "_view_name": "ProgressView",
            "bar_style": "success",
            "description": "",
            "description_tooltip": null,
            "layout": "IPY_MODEL_c7ee28b04c56410da7f57b2ff6e24c39",
            "max": 124,
            "min": 0,
            "orientation": "horizontal",
            "style": "IPY_MODEL_d332212683a548ff9704b219dbdd4f9e",
            "value": 124
          }
        },
        "6b668e15175549198fefb6b74dae2013": {
          "model_module": "@jupyter-widgets/controls",
          "model_name": "HTMLModel",
          "model_module_version": "1.5.0",
          "state": {
            "_dom_classes": [],
            "_model_module": "@jupyter-widgets/controls",
            "_model_module_version": "1.5.0",
            "_model_name": "HTMLModel",
            "_view_count": null,
            "_view_module": "@jupyter-widgets/controls",
            "_view_module_version": "1.5.0",
            "_view_name": "HTMLView",
            "description": "",
            "description_tooltip": null,
            "layout": "IPY_MODEL_509ad16f4eff4656afc16237d7b74ed1",
            "placeholder": "​",
            "style": "IPY_MODEL_aa1e14d48b004c6882289386f0eef3b5",
            "value": " 124/124 [00:00&lt;00:00, 1.54kB/s]"
          }
        },
        "70d94add25354ba6a3ff936dc8d06df6": {
          "model_module": "@jupyter-widgets/base",
          "model_name": "LayoutModel",
          "model_module_version": "1.2.0",
          "state": {
            "_model_module": "@jupyter-widgets/base",
            "_model_module_version": "1.2.0",
            "_model_name": "LayoutModel",
            "_view_count": null,
            "_view_module": "@jupyter-widgets/base",
            "_view_module_version": "1.2.0",
            "_view_name": "LayoutView",
            "align_content": null,
            "align_items": null,
            "align_self": null,
            "border": null,
            "bottom": null,
            "display": null,
            "flex": null,
            "flex_flow": null,
            "grid_area": null,
            "grid_auto_columns": null,
            "grid_auto_flow": null,
            "grid_auto_rows": null,
            "grid_column": null,
            "grid_gap": null,
            "grid_row": null,
            "grid_template_areas": null,
            "grid_template_columns": null,
            "grid_template_rows": null,
            "height": null,
            "justify_content": null,
            "justify_items": null,
            "left": null,
            "margin": null,
            "max_height": null,
            "max_width": null,
            "min_height": null,
            "min_width": null,
            "object_fit": null,
            "object_position": null,
            "order": null,
            "overflow": null,
            "overflow_x": null,
            "overflow_y": null,
            "padding": null,
            "right": null,
            "top": null,
            "visibility": null,
            "width": null
          }
        },
        "9b0b25c221564caebb7006224fb2981b": {
          "model_module": "@jupyter-widgets/base",
          "model_name": "LayoutModel",
          "model_module_version": "1.2.0",
          "state": {
            "_model_module": "@jupyter-widgets/base",
            "_model_module_version": "1.2.0",
            "_model_name": "LayoutModel",
            "_view_count": null,
            "_view_module": "@jupyter-widgets/base",
            "_view_module_version": "1.2.0",
            "_view_name": "LayoutView",
            "align_content": null,
            "align_items": null,
            "align_self": null,
            "border": null,
            "bottom": null,
            "display": null,
            "flex": null,
            "flex_flow": null,
            "grid_area": null,
            "grid_auto_columns": null,
            "grid_auto_flow": null,
            "grid_auto_rows": null,
            "grid_column": null,
            "grid_gap": null,
            "grid_row": null,
            "grid_template_areas": null,
            "grid_template_columns": null,
            "grid_template_rows": null,
            "height": null,
            "justify_content": null,
            "justify_items": null,
            "left": null,
            "margin": null,
            "max_height": null,
            "max_width": null,
            "min_height": null,
            "min_width": null,
            "object_fit": null,
            "object_position": null,
            "order": null,
            "overflow": null,
            "overflow_x": null,
            "overflow_y": null,
            "padding": null,
            "right": null,
            "top": null,
            "visibility": null,
            "width": null
          }
        },
        "32817d53cfac4c0d93209d816a6aede3": {
          "model_module": "@jupyter-widgets/controls",
          "model_name": "DescriptionStyleModel",
          "model_module_version": "1.5.0",
          "state": {
            "_model_module": "@jupyter-widgets/controls",
            "_model_module_version": "1.5.0",
            "_model_name": "DescriptionStyleModel",
            "_view_count": null,
            "_view_module": "@jupyter-widgets/base",
            "_view_module_version": "1.2.0",
            "_view_name": "StyleView",
            "description_width": ""
          }
        },
        "c7ee28b04c56410da7f57b2ff6e24c39": {
          "model_module": "@jupyter-widgets/base",
          "model_name": "LayoutModel",
          "model_module_version": "1.2.0",
          "state": {
            "_model_module": "@jupyter-widgets/base",
            "_model_module_version": "1.2.0",
            "_model_name": "LayoutModel",
            "_view_count": null,
            "_view_module": "@jupyter-widgets/base",
            "_view_module_version": "1.2.0",
            "_view_name": "LayoutView",
            "align_content": null,
            "align_items": null,
            "align_self": null,
            "border": null,
            "bottom": null,
            "display": null,
            "flex": null,
            "flex_flow": null,
            "grid_area": null,
            "grid_auto_columns": null,
            "grid_auto_flow": null,
            "grid_auto_rows": null,
            "grid_column": null,
            "grid_gap": null,
            "grid_row": null,
            "grid_template_areas": null,
            "grid_template_columns": null,
            "grid_template_rows": null,
            "height": null,
            "justify_content": null,
            "justify_items": null,
            "left": null,
            "margin": null,
            "max_height": null,
            "max_width": null,
            "min_height": null,
            "min_width": null,
            "object_fit": null,
            "object_position": null,
            "order": null,
            "overflow": null,
            "overflow_x": null,
            "overflow_y": null,
            "padding": null,
            "right": null,
            "top": null,
            "visibility": null,
            "width": null
          }
        },
        "d332212683a548ff9704b219dbdd4f9e": {
          "model_module": "@jupyter-widgets/controls",
          "model_name": "ProgressStyleModel",
          "model_module_version": "1.5.0",
          "state": {
            "_model_module": "@jupyter-widgets/controls",
            "_model_module_version": "1.5.0",
            "_model_name": "ProgressStyleModel",
            "_view_count": null,
            "_view_module": "@jupyter-widgets/base",
            "_view_module_version": "1.2.0",
            "_view_name": "StyleView",
            "bar_color": null,
            "description_width": ""
          }
        },
        "509ad16f4eff4656afc16237d7b74ed1": {
          "model_module": "@jupyter-widgets/base",
          "model_name": "LayoutModel",
          "model_module_version": "1.2.0",
          "state": {
            "_model_module": "@jupyter-widgets/base",
            "_model_module_version": "1.2.0",
            "_model_name": "LayoutModel",
            "_view_count": null,
            "_view_module": "@jupyter-widgets/base",
            "_view_module_version": "1.2.0",
            "_view_name": "LayoutView",
            "align_content": null,
            "align_items": null,
            "align_self": null,
            "border": null,
            "bottom": null,
            "display": null,
            "flex": null,
            "flex_flow": null,
            "grid_area": null,
            "grid_auto_columns": null,
            "grid_auto_flow": null,
            "grid_auto_rows": null,
            "grid_column": null,
            "grid_gap": null,
            "grid_row": null,
            "grid_template_areas": null,
            "grid_template_columns": null,
            "grid_template_rows": null,
            "height": null,
            "justify_content": null,
            "justify_items": null,
            "left": null,
            "margin": null,
            "max_height": null,
            "max_width": null,
            "min_height": null,
            "min_width": null,
            "object_fit": null,
            "object_position": null,
            "order": null,
            "overflow": null,
            "overflow_x": null,
            "overflow_y": null,
            "padding": null,
            "right": null,
            "top": null,
            "visibility": null,
            "width": null
          }
        },
        "aa1e14d48b004c6882289386f0eef3b5": {
          "model_module": "@jupyter-widgets/controls",
          "model_name": "DescriptionStyleModel",
          "model_module_version": "1.5.0",
          "state": {
            "_model_module": "@jupyter-widgets/controls",
            "_model_module_version": "1.5.0",
            "_model_name": "DescriptionStyleModel",
            "_view_count": null,
            "_view_module": "@jupyter-widgets/base",
            "_view_module_version": "1.2.0",
            "_view_name": "StyleView",
            "description_width": ""
          }
        },
        "ddcec0ae9f764a9a88d02ac94d42e9c4": {
          "model_module": "@jupyter-widgets/controls",
          "model_name": "HBoxModel",
          "model_module_version": "1.5.0",
          "state": {
            "_dom_classes": [],
            "_model_module": "@jupyter-widgets/controls",
            "_model_module_version": "1.5.0",
            "_model_name": "HBoxModel",
            "_view_count": null,
            "_view_module": "@jupyter-widgets/controls",
            "_view_module_version": "1.5.0",
            "_view_name": "HBoxView",
            "box_style": "",
            "children": [
              "IPY_MODEL_9662c1c7a69047f2bb044945a38ae522",
              "IPY_MODEL_ba9a7a8ae8cd4f0a91d85f9e7925264f",
              "IPY_MODEL_989fb54ff55841a89148fc3fab6968b2"
            ],
            "layout": "IPY_MODEL_b9c626693e384298afe27c8623d12a03"
          }
        },
        "9662c1c7a69047f2bb044945a38ae522": {
          "model_module": "@jupyter-widgets/controls",
          "model_name": "HTMLModel",
          "model_module_version": "1.5.0",
          "state": {
            "_dom_classes": [],
            "_model_module": "@jupyter-widgets/controls",
            "_model_module_version": "1.5.0",
            "_model_name": "HTMLModel",
            "_view_count": null,
            "_view_module": "@jupyter-widgets/controls",
            "_view_module_version": "1.5.0",
            "_view_name": "HTMLView",
            "description": "",
            "description_tooltip": null,
            "layout": "IPY_MODEL_0505215b28804719ab3a5dd39a41de14",
            "placeholder": "​",
            "style": "IPY_MODEL_311463972b44432ba107a746985f8da6",
            "value": "vocab.json: 100%"
          }
        },
        "ba9a7a8ae8cd4f0a91d85f9e7925264f": {
          "model_module": "@jupyter-widgets/controls",
          "model_name": "FloatProgressModel",
          "model_module_version": "1.5.0",
          "state": {
            "_dom_classes": [],
            "_model_module": "@jupyter-widgets/controls",
            "_model_module_version": "1.5.0",
            "_model_name": "FloatProgressModel",
            "_view_count": null,
            "_view_module": "@jupyter-widgets/controls",
            "_view_module_version": "1.5.0",
            "_view_name": "ProgressView",
            "bar_style": "success",
            "description": "",
            "description_tooltip": null,
            "layout": "IPY_MODEL_10a63783d9714946a2dca78978cd53aa",
            "max": 1042301,
            "min": 0,
            "orientation": "horizontal",
            "style": "IPY_MODEL_df32cdd8d72443ac814f437f801a99ff",
            "value": 1042301
          }
        },
        "989fb54ff55841a89148fc3fab6968b2": {
          "model_module": "@jupyter-widgets/controls",
          "model_name": "HTMLModel",
          "model_module_version": "1.5.0",
          "state": {
            "_dom_classes": [],
            "_model_module": "@jupyter-widgets/controls",
            "_model_module_version": "1.5.0",
            "_model_name": "HTMLModel",
            "_view_count": null,
            "_view_module": "@jupyter-widgets/controls",
            "_view_module_version": "1.5.0",
            "_view_name": "HTMLView",
            "description": "",
            "description_tooltip": null,
            "layout": "IPY_MODEL_17f6a35bcc9e46c6807e1352ae02fd95",
            "placeholder": "​",
            "style": "IPY_MODEL_ab34226157fc40fc93cdea9928dd1898",
            "value": " 1.04M/1.04M [00:00&lt;00:00, 8.49MB/s]"
          }
        },
        "b9c626693e384298afe27c8623d12a03": {
          "model_module": "@jupyter-widgets/base",
          "model_name": "LayoutModel",
          "model_module_version": "1.2.0",
          "state": {
            "_model_module": "@jupyter-widgets/base",
            "_model_module_version": "1.2.0",
            "_model_name": "LayoutModel",
            "_view_count": null,
            "_view_module": "@jupyter-widgets/base",
            "_view_module_version": "1.2.0",
            "_view_name": "LayoutView",
            "align_content": null,
            "align_items": null,
            "align_self": null,
            "border": null,
            "bottom": null,
            "display": null,
            "flex": null,
            "flex_flow": null,
            "grid_area": null,
            "grid_auto_columns": null,
            "grid_auto_flow": null,
            "grid_auto_rows": null,
            "grid_column": null,
            "grid_gap": null,
            "grid_row": null,
            "grid_template_areas": null,
            "grid_template_columns": null,
            "grid_template_rows": null,
            "height": null,
            "justify_content": null,
            "justify_items": null,
            "left": null,
            "margin": null,
            "max_height": null,
            "max_width": null,
            "min_height": null,
            "min_width": null,
            "object_fit": null,
            "object_position": null,
            "order": null,
            "overflow": null,
            "overflow_x": null,
            "overflow_y": null,
            "padding": null,
            "right": null,
            "top": null,
            "visibility": null,
            "width": null
          }
        },
        "0505215b28804719ab3a5dd39a41de14": {
          "model_module": "@jupyter-widgets/base",
          "model_name": "LayoutModel",
          "model_module_version": "1.2.0",
          "state": {
            "_model_module": "@jupyter-widgets/base",
            "_model_module_version": "1.2.0",
            "_model_name": "LayoutModel",
            "_view_count": null,
            "_view_module": "@jupyter-widgets/base",
            "_view_module_version": "1.2.0",
            "_view_name": "LayoutView",
            "align_content": null,
            "align_items": null,
            "align_self": null,
            "border": null,
            "bottom": null,
            "display": null,
            "flex": null,
            "flex_flow": null,
            "grid_area": null,
            "grid_auto_columns": null,
            "grid_auto_flow": null,
            "grid_auto_rows": null,
            "grid_column": null,
            "grid_gap": null,
            "grid_row": null,
            "grid_template_areas": null,
            "grid_template_columns": null,
            "grid_template_rows": null,
            "height": null,
            "justify_content": null,
            "justify_items": null,
            "left": null,
            "margin": null,
            "max_height": null,
            "max_width": null,
            "min_height": null,
            "min_width": null,
            "object_fit": null,
            "object_position": null,
            "order": null,
            "overflow": null,
            "overflow_x": null,
            "overflow_y": null,
            "padding": null,
            "right": null,
            "top": null,
            "visibility": null,
            "width": null
          }
        },
        "311463972b44432ba107a746985f8da6": {
          "model_module": "@jupyter-widgets/controls",
          "model_name": "DescriptionStyleModel",
          "model_module_version": "1.5.0",
          "state": {
            "_model_module": "@jupyter-widgets/controls",
            "_model_module_version": "1.5.0",
            "_model_name": "DescriptionStyleModel",
            "_view_count": null,
            "_view_module": "@jupyter-widgets/base",
            "_view_module_version": "1.2.0",
            "_view_name": "StyleView",
            "description_width": ""
          }
        },
        "10a63783d9714946a2dca78978cd53aa": {
          "model_module": "@jupyter-widgets/base",
          "model_name": "LayoutModel",
          "model_module_version": "1.2.0",
          "state": {
            "_model_module": "@jupyter-widgets/base",
            "_model_module_version": "1.2.0",
            "_model_name": "LayoutModel",
            "_view_count": null,
            "_view_module": "@jupyter-widgets/base",
            "_view_module_version": "1.2.0",
            "_view_name": "LayoutView",
            "align_content": null,
            "align_items": null,
            "align_self": null,
            "border": null,
            "bottom": null,
            "display": null,
            "flex": null,
            "flex_flow": null,
            "grid_area": null,
            "grid_auto_columns": null,
            "grid_auto_flow": null,
            "grid_auto_rows": null,
            "grid_column": null,
            "grid_gap": null,
            "grid_row": null,
            "grid_template_areas": null,
            "grid_template_columns": null,
            "grid_template_rows": null,
            "height": null,
            "justify_content": null,
            "justify_items": null,
            "left": null,
            "margin": null,
            "max_height": null,
            "max_width": null,
            "min_height": null,
            "min_width": null,
            "object_fit": null,
            "object_position": null,
            "order": null,
            "overflow": null,
            "overflow_x": null,
            "overflow_y": null,
            "padding": null,
            "right": null,
            "top": null,
            "visibility": null,
            "width": null
          }
        },
        "df32cdd8d72443ac814f437f801a99ff": {
          "model_module": "@jupyter-widgets/controls",
          "model_name": "ProgressStyleModel",
          "model_module_version": "1.5.0",
          "state": {
            "_model_module": "@jupyter-widgets/controls",
            "_model_module_version": "1.5.0",
            "_model_name": "ProgressStyleModel",
            "_view_count": null,
            "_view_module": "@jupyter-widgets/base",
            "_view_module_version": "1.2.0",
            "_view_name": "StyleView",
            "bar_color": null,
            "description_width": ""
          }
        },
        "17f6a35bcc9e46c6807e1352ae02fd95": {
          "model_module": "@jupyter-widgets/base",
          "model_name": "LayoutModel",
          "model_module_version": "1.2.0",
          "state": {
            "_model_module": "@jupyter-widgets/base",
            "_model_module_version": "1.2.0",
            "_model_name": "LayoutModel",
            "_view_count": null,
            "_view_module": "@jupyter-widgets/base",
            "_view_module_version": "1.2.0",
            "_view_name": "LayoutView",
            "align_content": null,
            "align_items": null,
            "align_self": null,
            "border": null,
            "bottom": null,
            "display": null,
            "flex": null,
            "flex_flow": null,
            "grid_area": null,
            "grid_auto_columns": null,
            "grid_auto_flow": null,
            "grid_auto_rows": null,
            "grid_column": null,
            "grid_gap": null,
            "grid_row": null,
            "grid_template_areas": null,
            "grid_template_columns": null,
            "grid_template_rows": null,
            "height": null,
            "justify_content": null,
            "justify_items": null,
            "left": null,
            "margin": null,
            "max_height": null,
            "max_width": null,
            "min_height": null,
            "min_width": null,
            "object_fit": null,
            "object_position": null,
            "order": null,
            "overflow": null,
            "overflow_x": null,
            "overflow_y": null,
            "padding": null,
            "right": null,
            "top": null,
            "visibility": null,
            "width": null
          }
        },
        "ab34226157fc40fc93cdea9928dd1898": {
          "model_module": "@jupyter-widgets/controls",
          "model_name": "DescriptionStyleModel",
          "model_module_version": "1.5.0",
          "state": {
            "_model_module": "@jupyter-widgets/controls",
            "_model_module_version": "1.5.0",
            "_model_name": "DescriptionStyleModel",
            "_view_count": null,
            "_view_module": "@jupyter-widgets/base",
            "_view_module_version": "1.2.0",
            "_view_name": "StyleView",
            "description_width": ""
          }
        },
        "7335a725674b4509a3ebdcc15246358e": {
          "model_module": "@jupyter-widgets/controls",
          "model_name": "HBoxModel",
          "model_module_version": "1.5.0",
          "state": {
            "_dom_classes": [],
            "_model_module": "@jupyter-widgets/controls",
            "_model_module_version": "1.5.0",
            "_model_name": "HBoxModel",
            "_view_count": null,
            "_view_module": "@jupyter-widgets/controls",
            "_view_module_version": "1.5.0",
            "_view_name": "HBoxView",
            "box_style": "",
            "children": [
              "IPY_MODEL_01753863b15d4ec09e5f5912d25a25e9",
              "IPY_MODEL_6aa67503d2ca485fa679099d1ad95485",
              "IPY_MODEL_04913637c84f42f9872aa51f44ecb465"
            ],
            "layout": "IPY_MODEL_86bb9d47c9ff47628874501db6351ce5"
          }
        },
        "01753863b15d4ec09e5f5912d25a25e9": {
          "model_module": "@jupyter-widgets/controls",
          "model_name": "HTMLModel",
          "model_module_version": "1.5.0",
          "state": {
            "_dom_classes": [],
            "_model_module": "@jupyter-widgets/controls",
            "_model_module_version": "1.5.0",
            "_model_name": "HTMLModel",
            "_view_count": null,
            "_view_module": "@jupyter-widgets/controls",
            "_view_module_version": "1.5.0",
            "_view_name": "HTMLView",
            "description": "",
            "description_tooltip": null,
            "layout": "IPY_MODEL_86ae44010e304ba8b3d72f1f86f7e5cc",
            "placeholder": "​",
            "style": "IPY_MODEL_cbb4da86e9674a649145bde13be85004",
            "value": "merges.txt: 100%"
          }
        },
        "6aa67503d2ca485fa679099d1ad95485": {
          "model_module": "@jupyter-widgets/controls",
          "model_name": "FloatProgressModel",
          "model_module_version": "1.5.0",
          "state": {
            "_dom_classes": [],
            "_model_module": "@jupyter-widgets/controls",
            "_model_module_version": "1.5.0",
            "_model_name": "FloatProgressModel",
            "_view_count": null,
            "_view_module": "@jupyter-widgets/controls",
            "_view_module_version": "1.5.0",
            "_view_name": "ProgressView",
            "bar_style": "success",
            "description": "",
            "description_tooltip": null,
            "layout": "IPY_MODEL_084494d7878d4f35af9f2a9fd196ffce",
            "max": 456318,
            "min": 0,
            "orientation": "horizontal",
            "style": "IPY_MODEL_236be889e6cc43e4bc724bd61304038d",
            "value": 456318
          }
        },
        "04913637c84f42f9872aa51f44ecb465": {
          "model_module": "@jupyter-widgets/controls",
          "model_name": "HTMLModel",
          "model_module_version": "1.5.0",
          "state": {
            "_dom_classes": [],
            "_model_module": "@jupyter-widgets/controls",
            "_model_module_version": "1.5.0",
            "_model_name": "HTMLModel",
            "_view_count": null,
            "_view_module": "@jupyter-widgets/controls",
            "_view_module_version": "1.5.0",
            "_view_name": "HTMLView",
            "description": "",
            "description_tooltip": null,
            "layout": "IPY_MODEL_1263007c2de440c78cdc8e1606b9df75",
            "placeholder": "​",
            "style": "IPY_MODEL_bd83500b9f134caeb4f4e600300f1fdd",
            "value": " 456k/456k [00:00&lt;00:00, 5.55MB/s]"
          }
        },
        "86bb9d47c9ff47628874501db6351ce5": {
          "model_module": "@jupyter-widgets/base",
          "model_name": "LayoutModel",
          "model_module_version": "1.2.0",
          "state": {
            "_model_module": "@jupyter-widgets/base",
            "_model_module_version": "1.2.0",
            "_model_name": "LayoutModel",
            "_view_count": null,
            "_view_module": "@jupyter-widgets/base",
            "_view_module_version": "1.2.0",
            "_view_name": "LayoutView",
            "align_content": null,
            "align_items": null,
            "align_self": null,
            "border": null,
            "bottom": null,
            "display": null,
            "flex": null,
            "flex_flow": null,
            "grid_area": null,
            "grid_auto_columns": null,
            "grid_auto_flow": null,
            "grid_auto_rows": null,
            "grid_column": null,
            "grid_gap": null,
            "grid_row": null,
            "grid_template_areas": null,
            "grid_template_columns": null,
            "grid_template_rows": null,
            "height": null,
            "justify_content": null,
            "justify_items": null,
            "left": null,
            "margin": null,
            "max_height": null,
            "max_width": null,
            "min_height": null,
            "min_width": null,
            "object_fit": null,
            "object_position": null,
            "order": null,
            "overflow": null,
            "overflow_x": null,
            "overflow_y": null,
            "padding": null,
            "right": null,
            "top": null,
            "visibility": null,
            "width": null
          }
        },
        "86ae44010e304ba8b3d72f1f86f7e5cc": {
          "model_module": "@jupyter-widgets/base",
          "model_name": "LayoutModel",
          "model_module_version": "1.2.0",
          "state": {
            "_model_module": "@jupyter-widgets/base",
            "_model_module_version": "1.2.0",
            "_model_name": "LayoutModel",
            "_view_count": null,
            "_view_module": "@jupyter-widgets/base",
            "_view_module_version": "1.2.0",
            "_view_name": "LayoutView",
            "align_content": null,
            "align_items": null,
            "align_self": null,
            "border": null,
            "bottom": null,
            "display": null,
            "flex": null,
            "flex_flow": null,
            "grid_area": null,
            "grid_auto_columns": null,
            "grid_auto_flow": null,
            "grid_auto_rows": null,
            "grid_column": null,
            "grid_gap": null,
            "grid_row": null,
            "grid_template_areas": null,
            "grid_template_columns": null,
            "grid_template_rows": null,
            "height": null,
            "justify_content": null,
            "justify_items": null,
            "left": null,
            "margin": null,
            "max_height": null,
            "max_width": null,
            "min_height": null,
            "min_width": null,
            "object_fit": null,
            "object_position": null,
            "order": null,
            "overflow": null,
            "overflow_x": null,
            "overflow_y": null,
            "padding": null,
            "right": null,
            "top": null,
            "visibility": null,
            "width": null
          }
        },
        "cbb4da86e9674a649145bde13be85004": {
          "model_module": "@jupyter-widgets/controls",
          "model_name": "DescriptionStyleModel",
          "model_module_version": "1.5.0",
          "state": {
            "_model_module": "@jupyter-widgets/controls",
            "_model_module_version": "1.5.0",
            "_model_name": "DescriptionStyleModel",
            "_view_count": null,
            "_view_module": "@jupyter-widgets/base",
            "_view_module_version": "1.2.0",
            "_view_name": "StyleView",
            "description_width": ""
          }
        },
        "084494d7878d4f35af9f2a9fd196ffce": {
          "model_module": "@jupyter-widgets/base",
          "model_name": "LayoutModel",
          "model_module_version": "1.2.0",
          "state": {
            "_model_module": "@jupyter-widgets/base",
            "_model_module_version": "1.2.0",
            "_model_name": "LayoutModel",
            "_view_count": null,
            "_view_module": "@jupyter-widgets/base",
            "_view_module_version": "1.2.0",
            "_view_name": "LayoutView",
            "align_content": null,
            "align_items": null,
            "align_self": null,
            "border": null,
            "bottom": null,
            "display": null,
            "flex": null,
            "flex_flow": null,
            "grid_area": null,
            "grid_auto_columns": null,
            "grid_auto_flow": null,
            "grid_auto_rows": null,
            "grid_column": null,
            "grid_gap": null,
            "grid_row": null,
            "grid_template_areas": null,
            "grid_template_columns": null,
            "grid_template_rows": null,
            "height": null,
            "justify_content": null,
            "justify_items": null,
            "left": null,
            "margin": null,
            "max_height": null,
            "max_width": null,
            "min_height": null,
            "min_width": null,
            "object_fit": null,
            "object_position": null,
            "order": null,
            "overflow": null,
            "overflow_x": null,
            "overflow_y": null,
            "padding": null,
            "right": null,
            "top": null,
            "visibility": null,
            "width": null
          }
        },
        "236be889e6cc43e4bc724bd61304038d": {
          "model_module": "@jupyter-widgets/controls",
          "model_name": "ProgressStyleModel",
          "model_module_version": "1.5.0",
          "state": {
            "_model_module": "@jupyter-widgets/controls",
            "_model_module_version": "1.5.0",
            "_model_name": "ProgressStyleModel",
            "_view_count": null,
            "_view_module": "@jupyter-widgets/base",
            "_view_module_version": "1.2.0",
            "_view_name": "StyleView",
            "bar_color": null,
            "description_width": ""
          }
        },
        "1263007c2de440c78cdc8e1606b9df75": {
          "model_module": "@jupyter-widgets/base",
          "model_name": "LayoutModel",
          "model_module_version": "1.2.0",
          "state": {
            "_model_module": "@jupyter-widgets/base",
            "_model_module_version": "1.2.0",
            "_model_name": "LayoutModel",
            "_view_count": null,
            "_view_module": "@jupyter-widgets/base",
            "_view_module_version": "1.2.0",
            "_view_name": "LayoutView",
            "align_content": null,
            "align_items": null,
            "align_self": null,
            "border": null,
            "bottom": null,
            "display": null,
            "flex": null,
            "flex_flow": null,
            "grid_area": null,
            "grid_auto_columns": null,
            "grid_auto_flow": null,
            "grid_auto_rows": null,
            "grid_column": null,
            "grid_gap": null,
            "grid_row": null,
            "grid_template_areas": null,
            "grid_template_columns": null,
            "grid_template_rows": null,
            "height": null,
            "justify_content": null,
            "justify_items": null,
            "left": null,
            "margin": null,
            "max_height": null,
            "max_width": null,
            "min_height": null,
            "min_width": null,
            "object_fit": null,
            "object_position": null,
            "order": null,
            "overflow": null,
            "overflow_x": null,
            "overflow_y": null,
            "padding": null,
            "right": null,
            "top": null,
            "visibility": null,
            "width": null
          }
        },
        "bd83500b9f134caeb4f4e600300f1fdd": {
          "model_module": "@jupyter-widgets/controls",
          "model_name": "DescriptionStyleModel",
          "model_module_version": "1.5.0",
          "state": {
            "_model_module": "@jupyter-widgets/controls",
            "_model_module_version": "1.5.0",
            "_model_name": "DescriptionStyleModel",
            "_view_count": null,
            "_view_module": "@jupyter-widgets/base",
            "_view_module_version": "1.2.0",
            "_view_name": "StyleView",
            "description_width": ""
          }
        },
        "b77d13958cd04c85a86f95e436a94299": {
          "model_module": "@jupyter-widgets/controls",
          "model_name": "HBoxModel",
          "model_module_version": "1.5.0",
          "state": {
            "_dom_classes": [],
            "_model_module": "@jupyter-widgets/controls",
            "_model_module_version": "1.5.0",
            "_model_name": "HBoxModel",
            "_view_count": null,
            "_view_module": "@jupyter-widgets/controls",
            "_view_module_version": "1.5.0",
            "_view_name": "HBoxView",
            "box_style": "",
            "children": [
              "IPY_MODEL_a13c63c981b2425c9cb488c754a0932a",
              "IPY_MODEL_e4200d752aa14d7e9465ea8a2863eb1d",
              "IPY_MODEL_6c0e88cf850943e98906a40bd41bc4eb"
            ],
            "layout": "IPY_MODEL_fa2e798871024f5aa0da5e45dc52e2b0"
          }
        },
        "a13c63c981b2425c9cb488c754a0932a": {
          "model_module": "@jupyter-widgets/controls",
          "model_name": "HTMLModel",
          "model_module_version": "1.5.0",
          "state": {
            "_dom_classes": [],
            "_model_module": "@jupyter-widgets/controls",
            "_model_module_version": "1.5.0",
            "_model_name": "HTMLModel",
            "_view_count": null,
            "_view_module": "@jupyter-widgets/controls",
            "_view_module_version": "1.5.0",
            "_view_name": "HTMLView",
            "description": "",
            "description_tooltip": null,
            "layout": "IPY_MODEL_6f3c49de7d9442f88ee621edfda26ac9",
            "placeholder": "​",
            "style": "IPY_MODEL_0cb70d78aceb4dfca69b77e587c42536",
            "value": "tokenizer.json: 100%"
          }
        },
        "e4200d752aa14d7e9465ea8a2863eb1d": {
          "model_module": "@jupyter-widgets/controls",
          "model_name": "FloatProgressModel",
          "model_module_version": "1.5.0",
          "state": {
            "_dom_classes": [],
            "_model_module": "@jupyter-widgets/controls",
            "_model_module_version": "1.5.0",
            "_model_name": "FloatProgressModel",
            "_view_count": null,
            "_view_module": "@jupyter-widgets/controls",
            "_view_module_version": "1.5.0",
            "_view_name": "ProgressView",
            "bar_style": "success",
            "description": "",
            "description_tooltip": null,
            "layout": "IPY_MODEL_7a1ca7b4dfc44d6b902957329e4963ec",
            "max": 1355256,
            "min": 0,
            "orientation": "horizontal",
            "style": "IPY_MODEL_06f35bf1142646b5a89177186cb5cda3",
            "value": 1355256
          }
        },
        "6c0e88cf850943e98906a40bd41bc4eb": {
          "model_module": "@jupyter-widgets/controls",
          "model_name": "HTMLModel",
          "model_module_version": "1.5.0",
          "state": {
            "_dom_classes": [],
            "_model_module": "@jupyter-widgets/controls",
            "_model_module_version": "1.5.0",
            "_model_name": "HTMLModel",
            "_view_count": null,
            "_view_module": "@jupyter-widgets/controls",
            "_view_module_version": "1.5.0",
            "_view_name": "HTMLView",
            "description": "",
            "description_tooltip": null,
            "layout": "IPY_MODEL_f8c82334d4ca4d27a979bb6c75cdf58b",
            "placeholder": "​",
            "style": "IPY_MODEL_4c5876bb34044044a750096863238057",
            "value": " 1.36M/1.36M [00:00&lt;00:00, 13.3MB/s]"
          }
        },
        "fa2e798871024f5aa0da5e45dc52e2b0": {
          "model_module": "@jupyter-widgets/base",
          "model_name": "LayoutModel",
          "model_module_version": "1.2.0",
          "state": {
            "_model_module": "@jupyter-widgets/base",
            "_model_module_version": "1.2.0",
            "_model_name": "LayoutModel",
            "_view_count": null,
            "_view_module": "@jupyter-widgets/base",
            "_view_module_version": "1.2.0",
            "_view_name": "LayoutView",
            "align_content": null,
            "align_items": null,
            "align_self": null,
            "border": null,
            "bottom": null,
            "display": null,
            "flex": null,
            "flex_flow": null,
            "grid_area": null,
            "grid_auto_columns": null,
            "grid_auto_flow": null,
            "grid_auto_rows": null,
            "grid_column": null,
            "grid_gap": null,
            "grid_row": null,
            "grid_template_areas": null,
            "grid_template_columns": null,
            "grid_template_rows": null,
            "height": null,
            "justify_content": null,
            "justify_items": null,
            "left": null,
            "margin": null,
            "max_height": null,
            "max_width": null,
            "min_height": null,
            "min_width": null,
            "object_fit": null,
            "object_position": null,
            "order": null,
            "overflow": null,
            "overflow_x": null,
            "overflow_y": null,
            "padding": null,
            "right": null,
            "top": null,
            "visibility": null,
            "width": null
          }
        },
        "6f3c49de7d9442f88ee621edfda26ac9": {
          "model_module": "@jupyter-widgets/base",
          "model_name": "LayoutModel",
          "model_module_version": "1.2.0",
          "state": {
            "_model_module": "@jupyter-widgets/base",
            "_model_module_version": "1.2.0",
            "_model_name": "LayoutModel",
            "_view_count": null,
            "_view_module": "@jupyter-widgets/base",
            "_view_module_version": "1.2.0",
            "_view_name": "LayoutView",
            "align_content": null,
            "align_items": null,
            "align_self": null,
            "border": null,
            "bottom": null,
            "display": null,
            "flex": null,
            "flex_flow": null,
            "grid_area": null,
            "grid_auto_columns": null,
            "grid_auto_flow": null,
            "grid_auto_rows": null,
            "grid_column": null,
            "grid_gap": null,
            "grid_row": null,
            "grid_template_areas": null,
            "grid_template_columns": null,
            "grid_template_rows": null,
            "height": null,
            "justify_content": null,
            "justify_items": null,
            "left": null,
            "margin": null,
            "max_height": null,
            "max_width": null,
            "min_height": null,
            "min_width": null,
            "object_fit": null,
            "object_position": null,
            "order": null,
            "overflow": null,
            "overflow_x": null,
            "overflow_y": null,
            "padding": null,
            "right": null,
            "top": null,
            "visibility": null,
            "width": null
          }
        },
        "0cb70d78aceb4dfca69b77e587c42536": {
          "model_module": "@jupyter-widgets/controls",
          "model_name": "DescriptionStyleModel",
          "model_module_version": "1.5.0",
          "state": {
            "_model_module": "@jupyter-widgets/controls",
            "_model_module_version": "1.5.0",
            "_model_name": "DescriptionStyleModel",
            "_view_count": null,
            "_view_module": "@jupyter-widgets/base",
            "_view_module_version": "1.2.0",
            "_view_name": "StyleView",
            "description_width": ""
          }
        },
        "7a1ca7b4dfc44d6b902957329e4963ec": {
          "model_module": "@jupyter-widgets/base",
          "model_name": "LayoutModel",
          "model_module_version": "1.2.0",
          "state": {
            "_model_module": "@jupyter-widgets/base",
            "_model_module_version": "1.2.0",
            "_model_name": "LayoutModel",
            "_view_count": null,
            "_view_module": "@jupyter-widgets/base",
            "_view_module_version": "1.2.0",
            "_view_name": "LayoutView",
            "align_content": null,
            "align_items": null,
            "align_self": null,
            "border": null,
            "bottom": null,
            "display": null,
            "flex": null,
            "flex_flow": null,
            "grid_area": null,
            "grid_auto_columns": null,
            "grid_auto_flow": null,
            "grid_auto_rows": null,
            "grid_column": null,
            "grid_gap": null,
            "grid_row": null,
            "grid_template_areas": null,
            "grid_template_columns": null,
            "grid_template_rows": null,
            "height": null,
            "justify_content": null,
            "justify_items": null,
            "left": null,
            "margin": null,
            "max_height": null,
            "max_width": null,
            "min_height": null,
            "min_width": null,
            "object_fit": null,
            "object_position": null,
            "order": null,
            "overflow": null,
            "overflow_x": null,
            "overflow_y": null,
            "padding": null,
            "right": null,
            "top": null,
            "visibility": null,
            "width": null
          }
        },
        "06f35bf1142646b5a89177186cb5cda3": {
          "model_module": "@jupyter-widgets/controls",
          "model_name": "ProgressStyleModel",
          "model_module_version": "1.5.0",
          "state": {
            "_model_module": "@jupyter-widgets/controls",
            "_model_module_version": "1.5.0",
            "_model_name": "ProgressStyleModel",
            "_view_count": null,
            "_view_module": "@jupyter-widgets/base",
            "_view_module_version": "1.2.0",
            "_view_name": "StyleView",
            "bar_color": null,
            "description_width": ""
          }
        },
        "f8c82334d4ca4d27a979bb6c75cdf58b": {
          "model_module": "@jupyter-widgets/base",
          "model_name": "LayoutModel",
          "model_module_version": "1.2.0",
          "state": {
            "_model_module": "@jupyter-widgets/base",
            "_model_module_version": "1.2.0",
            "_model_name": "LayoutModel",
            "_view_count": null,
            "_view_module": "@jupyter-widgets/base",
            "_view_module_version": "1.2.0",
            "_view_name": "LayoutView",
            "align_content": null,
            "align_items": null,
            "align_self": null,
            "border": null,
            "bottom": null,
            "display": null,
            "flex": null,
            "flex_flow": null,
            "grid_area": null,
            "grid_auto_columns": null,
            "grid_auto_flow": null,
            "grid_auto_rows": null,
            "grid_column": null,
            "grid_gap": null,
            "grid_row": null,
            "grid_template_areas": null,
            "grid_template_columns": null,
            "grid_template_rows": null,
            "height": null,
            "justify_content": null,
            "justify_items": null,
            "left": null,
            "margin": null,
            "max_height": null,
            "max_width": null,
            "min_height": null,
            "min_width": null,
            "object_fit": null,
            "object_position": null,
            "order": null,
            "overflow": null,
            "overflow_x": null,
            "overflow_y": null,
            "padding": null,
            "right": null,
            "top": null,
            "visibility": null,
            "width": null
          }
        },
        "4c5876bb34044044a750096863238057": {
          "model_module": "@jupyter-widgets/controls",
          "model_name": "DescriptionStyleModel",
          "model_module_version": "1.5.0",
          "state": {
            "_model_module": "@jupyter-widgets/controls",
            "_model_module_version": "1.5.0",
            "_model_name": "DescriptionStyleModel",
            "_view_count": null,
            "_view_module": "@jupyter-widgets/base",
            "_view_module_version": "1.2.0",
            "_view_name": "StyleView",
            "description_width": ""
          }
        }
      }
    }
  },
  "cells": [
    {
      "cell_type": "markdown",
      "metadata": {
        "id": "view-in-github",
        "colab_type": "text"
      },
      "source": [
        "<a href=\"https://colab.research.google.com/github/Deepanraj1508/Python-Beginner-Projects/blob/main/28_MiniProjects.ipynb\" target=\"_parent\"><img src=\"https://colab.research.google.com/assets/colab-badge.svg\" alt=\"Open In Colab\"/></a>"
      ]
    },
    {
      "cell_type": "markdown",
      "source": [
        "# 1.Acronyms using python"
      ],
      "metadata": {
        "id": "AxXwnDLZc5Zu"
      }
    },
    {
      "cell_type": "code",
      "source": [
        "user_input = str(input(\"Enter a Phrase: \"))\n",
        "text = user_input.split()\n",
        "\n",
        "a = \" \"\n",
        "for i in text:\n",
        "    a = a+str(i[0]).upper()\n",
        "print(a)"
      ],
      "metadata": {
        "id": "x0Xl6h1sc65E",
        "colab": {
          "base_uri": "https://localhost:8080/"
        },
        "outputId": "cc1bdc6c-cf14-4275-bcf7-5b243b7b06ee"
      },
      "execution_count": null,
      "outputs": [
        {
          "output_type": "stream",
          "name": "stdout",
          "text": [
            "Enter a Phrase: hello how are you\n",
            " HHAY\n"
          ]
        }
      ]
    },
    {
      "cell_type": "markdown",
      "source": [
        "\n",
        "Certainly! Here's a brief summary of the functions used in your code:\n",
        "\n",
        "input() function:\n",
        "Takes user input from the console.\n",
        "\n",
        "str() function:\n",
        "Converts the user input to a string.\n",
        "\n",
        "split() method:\n",
        "Splits the input string into a list of words.\n",
        "\n",
        "for loop:\n",
        "Iterates over each word in the list.\n",
        "\n",
        "upper() method:\n",
        "Converts a character to uppercase.\n",
        "\n",
        "String concatenation (+):\n",
        "Builds a new string by concatenating the first character of each word (converted to uppercase).\n",
        "\n",
        "print() function:\n",
        "Outputs the final string."
      ],
      "metadata": {
        "id": "94hnLldpdCXz"
      }
    },
    {
      "cell_type": "markdown",
      "source": [
        "# 2. Password Validator"
      ],
      "metadata": {
        "id": "lFd9hNOadJj6"
      }
    },
    {
      "cell_type": "code",
      "source": [
        "valid_password = 'secure123'\n",
        "for _ in iter(lambda: input(\"Enter password: \"), valid_password):\n",
        "    print(\"Invalid password. Try again.\")\n",
        "\n",
        "print(\"Access granted! You entered the correct password.\")"
      ],
      "metadata": {
        "id": "21DaXtGRdHgN",
        "colab": {
          "base_uri": "https://localhost:8080/"
        },
        "outputId": "4ab0777f-2a73-47a0-82e6-aaab0baf1471"
      },
      "execution_count": null,
      "outputs": [
        {
          "output_type": "stream",
          "name": "stdout",
          "text": [
            "Enter password: 159\n",
            "Invalid password. Try again.\n",
            "Enter password: securasdfsdf\n",
            "Invalid password. Try again.\n",
            "Enter password: secure123\n",
            "Access granted! You entered the correct password.\n"
          ]
        }
      ]
    },
    {
      "cell_type": "markdown",
      "source": [
        "The provided Python code demonstrates the use of the `iter()` function, lambda functions, and a simple password validation loop. Here's a breakdown:\n",
        "\n",
        "1. *iter() function:*\n",
        "   - It creates an iterator object.\n",
        "   - In this code, `iter(lambda: input(\"Enter password: \"), valid_password)` creates an iterator that repeatedly prompts the user to enter a password until the entered password matches the `valid_password`.\n",
        "\n",
        "2. *lambda function:*\n",
        "   - `lambda: input(\"Enter password: \")` is an anonymous function (lambda function) used as the first argument of the `iter()` function.\n",
        "   - It takes no arguments (`lambda:`) and prompts the user to enter a password using `input(\"Enter password: \")`.\n",
        "\n",
        "3. *for loop:*\n",
        "   - The `for _ in ...` loop iterates over the iterator created by `iter()`.\n",
        "   - The loop continues until the entered password matches the `valid_password`.\n",
        "\n",
        "4. *Print statements:*\n",
        "   - If the entered password is invalid, it prints \"Invalid password. Try again.\"\n",
        "   - Once a valid password is entered, it prints \"Access granted! You entered the correct password.\"\n",
        "\n",
        "In summary, this code demonstrates a basic password validation mechanism using a loop and the `iter()` function, along with a lambda function for user input."
      ],
      "metadata": {
        "id": "Za1ZfSdPdh3N"
      }
    },
    {
      "cell_type": "markdown",
      "source": [
        "# 3.Calculator"
      ],
      "metadata": {
        "id": "3dzTO3BLdrVj"
      }
    },
    {
      "cell_type": "code",
      "source": [
        "def calculate(x, y, operator):\n",
        "    if operator == \"+\":\n",
        "        return x + y\n",
        "    elif operator == \"-\":\n",
        "        return x - y\n",
        "    elif operator == \"*\":\n",
        "        return x * y\n",
        "    elif operator == \"/\":\n",
        "        return x / y if y!=0 else \"Cannot divide by zero\"\n",
        "    elif operator == \"**\":\n",
        "        return x ** y\n",
        "    else:\n",
        "        return \"Invalid operator. Please enter +, -, *, or /.\"\n",
        "\n",
        "while True:\n",
        "    # Take user input\n",
        "    num1 = float(input(\"Enter first number: \"))\n",
        "    operator = input(\"Enter operator (+, -, *, /): \")\n",
        "    num2 = float(input(\"Enter second number: \"))\n",
        "\n",
        "    result = calculate(num1,num2,operator)\n",
        "    # Display the result\n",
        "    print(f\"Result: {result}\")\n",
        "\n",
        "    # Ask if the user wants to perform another calculation\n",
        "    another_calculation = input(\"Do you want to perform another calculation? (yes/no): \").lower()\n",
        "    if another_calculation != 'yes':\n",
        "        break"
      ],
      "metadata": {
        "id": "Vz0GPg_AdvP7",
        "colab": {
          "base_uri": "https://localhost:8080/",
          "height": 390
        },
        "outputId": "494478d8-2891-48c3-effa-9c82a81ef43c"
      },
      "execution_count": null,
      "outputs": [
        {
          "output_type": "error",
          "ename": "KeyboardInterrupt",
          "evalue": "Interrupted by user",
          "traceback": [
            "\u001b[0;31m---------------------------------------------------------------------------\u001b[0m",
            "\u001b[0;31mKeyboardInterrupt\u001b[0m                         Traceback (most recent call last)",
            "\u001b[0;32m<ipython-input-2-78bf8b16ea9c>\u001b[0m in \u001b[0;36m<cell line: 15>\u001b[0;34m()\u001b[0m\n\u001b[1;32m     15\u001b[0m \u001b[0;32mwhile\u001b[0m \u001b[0;32mTrue\u001b[0m\u001b[0;34m:\u001b[0m\u001b[0;34m\u001b[0m\u001b[0;34m\u001b[0m\u001b[0m\n\u001b[1;32m     16\u001b[0m     \u001b[0;31m# Take user input\u001b[0m\u001b[0;34m\u001b[0m\u001b[0;34m\u001b[0m\u001b[0m\n\u001b[0;32m---> 17\u001b[0;31m     \u001b[0mnum1\u001b[0m \u001b[0;34m=\u001b[0m \u001b[0mfloat\u001b[0m\u001b[0;34m(\u001b[0m\u001b[0minput\u001b[0m\u001b[0;34m(\u001b[0m\u001b[0;34m\"Enter first number: \"\u001b[0m\u001b[0;34m)\u001b[0m\u001b[0;34m)\u001b[0m\u001b[0;34m\u001b[0m\u001b[0;34m\u001b[0m\u001b[0m\n\u001b[0m\u001b[1;32m     18\u001b[0m     \u001b[0moperator\u001b[0m \u001b[0;34m=\u001b[0m \u001b[0minput\u001b[0m\u001b[0;34m(\u001b[0m\u001b[0;34m\"Enter operator (+, -, *, /): \"\u001b[0m\u001b[0;34m)\u001b[0m\u001b[0;34m\u001b[0m\u001b[0;34m\u001b[0m\u001b[0m\n\u001b[1;32m     19\u001b[0m     \u001b[0mnum2\u001b[0m \u001b[0;34m=\u001b[0m \u001b[0mfloat\u001b[0m\u001b[0;34m(\u001b[0m\u001b[0minput\u001b[0m\u001b[0;34m(\u001b[0m\u001b[0;34m\"Enter second number: \"\u001b[0m\u001b[0;34m)\u001b[0m\u001b[0;34m)\u001b[0m\u001b[0;34m\u001b[0m\u001b[0;34m\u001b[0m\u001b[0m\n",
            "\u001b[0;32m/usr/local/lib/python3.10/dist-packages/ipykernel/kernelbase.py\u001b[0m in \u001b[0;36mraw_input\u001b[0;34m(self, prompt)\u001b[0m\n\u001b[1;32m    849\u001b[0m                 \u001b[0;34m\"raw_input was called, but this frontend does not support input requests.\"\u001b[0m\u001b[0;34m\u001b[0m\u001b[0;34m\u001b[0m\u001b[0m\n\u001b[1;32m    850\u001b[0m             )\n\u001b[0;32m--> 851\u001b[0;31m         return self._input_request(str(prompt),\n\u001b[0m\u001b[1;32m    852\u001b[0m             \u001b[0mself\u001b[0m\u001b[0;34m.\u001b[0m\u001b[0m_parent_ident\u001b[0m\u001b[0;34m,\u001b[0m\u001b[0;34m\u001b[0m\u001b[0;34m\u001b[0m\u001b[0m\n\u001b[1;32m    853\u001b[0m             \u001b[0mself\u001b[0m\u001b[0;34m.\u001b[0m\u001b[0m_parent_header\u001b[0m\u001b[0;34m,\u001b[0m\u001b[0;34m\u001b[0m\u001b[0;34m\u001b[0m\u001b[0m\n",
            "\u001b[0;32m/usr/local/lib/python3.10/dist-packages/ipykernel/kernelbase.py\u001b[0m in \u001b[0;36m_input_request\u001b[0;34m(self, prompt, ident, parent, password)\u001b[0m\n\u001b[1;32m    893\u001b[0m             \u001b[0;32mexcept\u001b[0m \u001b[0mKeyboardInterrupt\u001b[0m\u001b[0;34m:\u001b[0m\u001b[0;34m\u001b[0m\u001b[0;34m\u001b[0m\u001b[0m\n\u001b[1;32m    894\u001b[0m                 \u001b[0;31m# re-raise KeyboardInterrupt, to truncate traceback\u001b[0m\u001b[0;34m\u001b[0m\u001b[0;34m\u001b[0m\u001b[0m\n\u001b[0;32m--> 895\u001b[0;31m                 \u001b[0;32mraise\u001b[0m \u001b[0mKeyboardInterrupt\u001b[0m\u001b[0;34m(\u001b[0m\u001b[0;34m\"Interrupted by user\"\u001b[0m\u001b[0;34m)\u001b[0m \u001b[0;32mfrom\u001b[0m \u001b[0;32mNone\u001b[0m\u001b[0;34m\u001b[0m\u001b[0;34m\u001b[0m\u001b[0m\n\u001b[0m\u001b[1;32m    896\u001b[0m             \u001b[0;32mexcept\u001b[0m \u001b[0mException\u001b[0m \u001b[0;32mas\u001b[0m \u001b[0me\u001b[0m\u001b[0;34m:\u001b[0m\u001b[0;34m\u001b[0m\u001b[0;34m\u001b[0m\u001b[0m\n\u001b[1;32m    897\u001b[0m                 \u001b[0mself\u001b[0m\u001b[0;34m.\u001b[0m\u001b[0mlog\u001b[0m\u001b[0;34m.\u001b[0m\u001b[0mwarning\u001b[0m\u001b[0;34m(\u001b[0m\u001b[0;34m\"Invalid Message:\"\u001b[0m\u001b[0;34m,\u001b[0m \u001b[0mexc_info\u001b[0m\u001b[0;34m=\u001b[0m\u001b[0;32mTrue\u001b[0m\u001b[0;34m)\u001b[0m\u001b[0;34m\u001b[0m\u001b[0;34m\u001b[0m\u001b[0m\n",
            "\u001b[0;31mKeyboardInterrupt\u001b[0m: Interrupted by user"
          ]
        }
      ]
    },
    {
      "cell_type": "markdown",
      "source": [
        "This Python code defines a simple calculator using a function named calculate. The calculator can perform basic arithmetic operations such as addition, subtraction, multiplication, division, and exponentiation. The program uses a while True loop to repeatedly take user input, perform the calculation, display the result, and then ask the user if they want to perform another calculation.\n",
        "\n",
        "Here's an explanation of the code:\n",
        "\n",
        "The calculate function takes three parameters: x, y, and operator. It checks the value of the operator and performs the corresponding arithmetic operation.\n",
        "\n",
        "If the operator is \"+\", it adds x and y.\n",
        "If the operator is \"-\", it subtracts y from x.\n",
        "If the operator is \"*\", it multiplies x and y.\n",
        "If the operator is \"/\", it divides x by y. Note that a check is included to avoid division by zero, and an error message is returned in such cases.\n",
        "If the operator is \"**\", it raises x to the power of y.\n",
        "If the operator is not one of the recognised operators, it returns an \"Invalid operator\" message.\n",
        "The while True loop is an infinite loop that continues until explicitly broken. Inside the loop:\n",
        "\n",
        "The user is prompted to enter the first number (num1), the operator, and the second number (num2).\n",
        "The calculate function is called with these inputs, and the result is stored in the variable result.\n",
        "The result is then displayed to the user.\n",
        "After displaying the result, the user is asked whether they want to perform another calculation. If the user enters \"yes,\" the loop continues, and if they enter anything else, the loop is exited with the break statement.\n",
        "\n",
        "Note: The code assumes that the user always enters valid numerical input for num1 and num2 and a valid operator. If the user enters invalid input, the program may raise an exception. In a more robust implementation, you might want to include additional input validation."
      ],
      "metadata": {
        "id": "msjsd8Q5d1MJ"
      }
    },
    {
      "cell_type": "markdown",
      "source": [
        "# 4. String encryption and decryption"
      ],
      "metadata": {
        "id": "CmKG7C6t2Vng"
      }
    },
    {
      "cell_type": "code",
      "source": [
        "# Importing the Fernet class from the cryptography library\n",
        "from cryptography.fernet import Fernet\n",
        "\n",
        "# Define the message that you want to encrypt\n",
        "message = \"Deepanraj\"\n",
        "\n",
        "# Generate a random key using Fernet\n",
        "key = Fernet.generate_key()\n",
        "\n",
        "# Create a Fernet object with the generated key\n",
        "fernet = Fernet(key)\n",
        "\n",
        "# Encrypt the message by encoding it and then encrypting it using the Fernet object\n",
        "encMessage = fernet.encrypt(message.encode())\n",
        "\n",
        "# Print the original and encrypted strings\n",
        "print(\"original string: \", message)\n",
        "print(\"encrypted string: \", encMessage)\n",
        "\n",
        "# Decrypt the encrypted message using the same Fernet object and decode it back to the original string\n",
        "decMessage = fernet.decrypt(encMessage).decode()\n",
        "\n",
        "# Print the decrypted string\n",
        "print(\"decrypted string: \", decMessage)"
      ],
      "metadata": {
        "id": "WP2jPttw2Z7b",
        "colab": {
          "base_uri": "https://localhost:8080/"
        },
        "outputId": "3926b448-c1e4-4155-f360-3914a425cc83"
      },
      "execution_count": null,
      "outputs": [
        {
          "output_type": "stream",
          "name": "stdout",
          "text": [
            "original string:  Deepanraj\n",
            "encrypted string:  b'gAAAAABlqQVa3YZ0q5zJy4aEn6TSPNZS--f7yHLeuAij3bQhp3DVAQsOeYOjuZoLgZ-xj30ltPm5CEOkuCzremO4qOT1f7zDvQ=='\n",
            "decrypted string:  Deepanraj\n"
          ]
        }
      ]
    },
    {
      "cell_type": "markdown",
      "source": [
        "1. Import the Fernet class from the cryptography library.\n",
        "2. Define the message that you want to encrypt.\n",
        "3. Generate a random key using Fernet.generate_key().\n",
        "4. Create a Fernet object with the generated key.\n",
        "5. Encrypt the message by encoding it and then encrypting it using the encrypt method of the Fernet object.\n",
        "6. Print the original and encrypted strings.\n",
        "7. Decrypt the encrypted message using the same Fernet object and 8. decode it back to the original string.\n",
        "8. Print the decrypted string.\n"
      ],
      "metadata": {
        "id": "dkMEaenr3OM5"
      }
    },
    {
      "cell_type": "markdown",
      "source": [
        "# 5. Word Counter"
      ],
      "metadata": {
        "id": "dt_RhY6h3358"
      }
    },
    {
      "cell_type": "code",
      "source": [
        "test_string = '''Python is a high-level, general-purpose programming language.Its design philosophy emphasizes code readability with the use of significant indentation.'''\n",
        "\n",
        "# printing original string\n",
        "print (\"The original string is : \" + test_string)\n",
        "\n",
        "# using split()\n",
        "# to count words in string\n",
        "res = len(test_string.split())\n",
        "\n",
        "# printing result\n",
        "print (\"\\nThe number of words in string are : \" + str(res))\n"
      ],
      "metadata": {
        "id": "VO-5ubTQ4o5C"
      },
      "execution_count": null,
      "outputs": []
    },
    {
      "cell_type": "markdown",
      "source": [
        "1. Define a multiline string containing the text to be analyzed.\n",
        "2. Print the original string for reference.\n",
        "3. Use the split() method to break the string into a list of words,and then calculate the length of the list to determine the number of words.\n",
        "4. Print the result, showing the number of words in the string."
      ],
      "metadata": {
        "id": "AaVDSjAa6FQN"
      }
    },
    {
      "cell_type": "markdown",
      "source": [
        "# 6. Spelling checker"
      ],
      "metadata": {
        "id": "fEYq_cvw7AMY"
      }
    },
    {
      "cell_type": "code",
      "source": [
        "!pip install pyspellchecker"
      ],
      "metadata": {
        "colab": {
          "base_uri": "https://localhost:8080/"
        },
        "id": "tJuXOn4s7ct7",
        "outputId": "f8bb20e4-c0f2-4320-d01d-35df420bab0a"
      },
      "execution_count": null,
      "outputs": [
        {
          "output_type": "stream",
          "name": "stdout",
          "text": [
            "Collecting pyspellchecker\n",
            "  Downloading pyspellchecker-0.8.1-py3-none-any.whl (6.8 MB)\n",
            "\u001b[2K     \u001b[90m━━━━━━━━━━━━━━━━━━━━━━━━━━━━━━━━━━━━━━━━\u001b[0m \u001b[32m6.8/6.8 MB\u001b[0m \u001b[31m22.7 MB/s\u001b[0m eta \u001b[36m0:00:00\u001b[0m\n",
            "\u001b[?25hInstalling collected packages: pyspellchecker\n",
            "Successfully installed pyspellchecker-0.8.1\n"
          ]
        }
      ]
    },
    {
      "cell_type": "code",
      "source": [
        "from spellchecker import SpellChecker\n",
        "corrector = SpellChecker()\n",
        "print(corrector)\n",
        "count=0\n",
        "for i in corrector:\n",
        "    count+=1\n",
        "print(count)\n",
        "word = input(\"Enter a Word : \")\n",
        "if word in corrector:\n",
        "    print(\"Correct\")\n",
        "else:\n",
        "    correct_word = corrector.correction(word)\n",
        "\n",
        "    print(\"Correct Spelling is \", correct_word)"
      ],
      "metadata": {
        "id": "13X2J_hx8MN9",
        "colab": {
          "base_uri": "https://localhost:8080/"
        },
        "outputId": "5caf6e93-5464-4080-b22c-18e4a298b2a1"
      },
      "execution_count": null,
      "outputs": [
        {
          "output_type": "stream",
          "name": "stdout",
          "text": [
            "<spellchecker.spellchecker.SpellChecker object at 0x7bb376438240>\n",
            "138581\n",
            "Enter a Word : pronounciation\n",
            "Correct Spelling is  pronunciation\n"
          ]
        }
      ]
    },
    {
      "cell_type": "markdown",
      "source": [
        "# 7. Character Frequency Counter"
      ],
      "metadata": {
        "id": "PM0xVOQa7Euh"
      }
    },
    {
      "cell_type": "code",
      "source": [
        "# Get user input for a word or sentence\n",
        "data = str(input(\"Enter the Word or Sentence: \"))\n",
        "\n",
        "# Initialize an empty dictionary to store the frequency of each character\n",
        "all_freq = {}\n",
        "\n",
        "# Iterate through each character in the input string\n",
        "for i in data:\n",
        "    # Check if the character is already in the dictionary\n",
        "    if i in all_freq:\n",
        "        # If it's already present, increment its count\n",
        "        all_freq[i] += 1\n",
        "    else:\n",
        "        # If it's not present, add it to the dictionary with a count of 1\n",
        "        all_freq[i] = 1\n",
        "\n",
        "# Print the result - count of all characters in the input string\n",
        "print(\"Count of all characters in \" + str(data) + \" is:\\n\" + str(all_freq))\n"
      ],
      "metadata": {
        "id": "-Y7pAC5K7MMr",
        "colab": {
          "base_uri": "https://localhost:8080/"
        },
        "outputId": "2178ddee-4587-4cd9-e86d-c26a5a658a19"
      },
      "execution_count": null,
      "outputs": [
        {
          "output_type": "stream",
          "name": "stdout",
          "text": [
            "Enter the Word or Sentence: how are you\n",
            "Count of all characters in how are you is:\n",
            "{'h': 1, 'o': 2, 'w': 1, ' ': 2, 'a': 1, 'r': 1, 'e': 1, 'y': 1, 'u': 1}\n"
          ]
        }
      ]
    },
    {
      "cell_type": "markdown",
      "source": [
        "# 8. Guessing number"
      ],
      "metadata": {
        "id": "q_O4H3Fg8e9S"
      }
    },
    {
      "cell_type": "code",
      "source": [
        "import random\n",
        "\n",
        "def guess_the_number():\n",
        "    secret_number = random.randint(1, 20)\n",
        "    attempts = 0\n",
        "\n",
        "    print(\"Welcome to the Number Guessing Game!\")\n",
        "    print(\"Guess a number between 1 and 20.\")\n",
        "\n",
        "    while True:\n",
        "        user_guess = int(input(\"Enter your guess: \"))\n",
        "        attempts += 1\n",
        "\n",
        "        if user_guess == secret_number:\n",
        "            print(f\"Congratulations! You guessed the correct number {secret_number} in {attempts} attempts.\")\n",
        "            break\n",
        "        elif user_guess < secret_number:\n",
        "            print(\"Too low! Try again.\")\n",
        "        else:\n",
        "            print(\"Too high! Try again.\")\n",
        "\n",
        "if __name__ == \"__main__\":\n",
        "\n",
        "    guess_the_number()"
      ],
      "metadata": {
        "id": "4rWoiatj7T9I"
      },
      "execution_count": null,
      "outputs": []
    },
    {
      "cell_type": "markdown",
      "source": [
        "# 9. Roll a Dice"
      ],
      "metadata": {
        "id": "VEm6XQM971md"
      }
    },
    {
      "cell_type": "code",
      "source": [
        "import random\n",
        "\n",
        "def roll_die():\n",
        "    return random.randint(1, 6)\n",
        "\n",
        "def main():\n",
        "    print(\"Welcome to the Dice Rolling Simulator!\")\n",
        "\n",
        "    while True:\n",
        "        input(\"Press Enter to roll the die...\")\n",
        "        result = roll_die()\n",
        "        print(f\"You rolled: {result}\")\n",
        "\n",
        "        play_again = input(\"Do you want to roll again? (yes/no): \").lower()\n",
        "        if play_again != \"yes\":\n",
        "            print(\"Exiting the Dice Rolling Simulator. Goodbye!\")\n",
        "            break\n",
        "\n",
        "if __name__== \"__main__\":\n",
        "    main()"
      ],
      "metadata": {
        "id": "enogucFU7lev"
      },
      "execution_count": null,
      "outputs": []
    },
    {
      "cell_type": "markdown",
      "source": [
        "# 10. Countdown Timer"
      ],
      "metadata": {
        "id": "UZ_vJeEOG1og"
      }
    },
    {
      "cell_type": "code",
      "source": [
        "# import the time module\n",
        "import time\n",
        "\n",
        "# define the countdown func.\n",
        "def countdown(t):\n",
        "    while t:\n",
        "        mins, secs = divmod(t, 60)\n",
        "        timer = '{:02d}:{:02d}'.format(mins, secs)\n",
        "        print(timer, end=\"\\n\")\n",
        "        time.sleep(1)\n",
        "        t -= 1\n",
        "\n",
        "    print('Times up!')\n",
        "\n",
        "# input time in seconds\n",
        "t = int(input(\"Enter the time in seconds: \"))\n",
        "\n",
        "# function call\n",
        "countdown(t)"
      ],
      "metadata": {
        "colab": {
          "base_uri": "https://localhost:8080/"
        },
        "id": "13El59x-G8fz",
        "outputId": "55f1a92d-86a7-47af-c37d-ce3776aea862"
      },
      "execution_count": null,
      "outputs": [
        {
          "output_type": "stream",
          "name": "stdout",
          "text": [
            "Enter the time in seconds: 5\n",
            "00:05\n",
            "00:04\n",
            "00:03\n",
            "00:02\n",
            "00:01\n",
            "Times up!\n"
          ]
        }
      ]
    },
    {
      "cell_type": "markdown",
      "source": [
        "# 11. Password Generator"
      ],
      "metadata": {
        "id": "IfctKH0CNpZb"
      }
    },
    {
      "cell_type": "code",
      "source": [
        "import random\n",
        "import string\n",
        "\n",
        "def generate_password(length=12, include_digits=True, include_special_chars=True):\n",
        "    # Define character sets\n",
        "    characters = string.ascii_letters\n",
        "    if include_digits:\n",
        "        characters += string.digits\n",
        "    if include_special_chars:\n",
        "        characters += string.punctuation\n",
        "\n",
        "    # Generate password\n",
        "    password = ''.join(random.choice(characters) for _ in range(length))\n",
        "    return password\n",
        "\n",
        "# Example: Generate a password with default settings\n",
        "password = generate_password()\n",
        "print(\"Generated Password:\", password)\n"
      ],
      "metadata": {
        "colab": {
          "base_uri": "https://localhost:8080/"
        },
        "id": "MTu_yQGsG__n",
        "outputId": "b473c22f-4e7d-4c81-eaa7-792b3952a0b9"
      },
      "execution_count": null,
      "outputs": [
        {
          "output_type": "stream",
          "name": "stdout",
          "text": [
            "Generated Password: 9hw0N-UO,$!S\n"
          ]
        }
      ]
    },
    {
      "cell_type": "markdown",
      "source": [
        "1. **Importing Libraries:**\n",
        "\n",
        "**random:** This module provides functions for generating pseudo-random\n",
        "numbers.\n",
        "**string:** This module provides a collection of string constants and some helper functions.\n",
        "\n",
        "2. **Defining the Password Generator Function**:\n",
        "\n",
        "The function generate_password is defined with three parameters:\n",
        "\n",
        "**length:** The length of the password (default is 12).\n",
        "\n",
        "**include_digits:** Whether to include digits in the password (default is True).\n",
        "\n",
        "**include_special_chars:** Whether to include special characters in the password (default is True).\n",
        "\n",
        "3. **Defining Character Sets:**\n",
        "\n",
        "**string.ascii_letters:** Concatenation of the ASCII uppercase and lowercase letters.\n",
        "**string.digits: **The string '0123456789'.\n",
        "string.punctuation: A string containing all ASCII punctuation characters.\n",
        "\n",
        "4. **Generating the Password:**\n",
        "\n",
        "**random.choice(characters):** Selects a random character from the characters string.\n",
        "**''.join(...):** Joins the selected characters into a string.\n",
        "**for _ in range(length):** Repeats the process length times to generate a password of the desired length.\n",
        "\n",
        "5. **Returning the Password:**\n",
        "\n",
        "\n",
        "6. **Example: Generating and Printing a Password:**\n",
        "\n",
        "Calls the generate_password function with default settings.\n",
        "Prints the generated password."
      ],
      "metadata": {
        "id": "IdiL-SebOD7C"
      }
    },
    {
      "cell_type": "markdown",
      "source": [
        "# 12.Calendar"
      ],
      "metadata": {
        "id": "Bp15SVJOPrWM"
      }
    },
    {
      "cell_type": "code",
      "source": [
        "import calendar\n",
        "\n",
        "def display_calendar(year, month):\n",
        "    cal = calendar.monthcalendar(year, month)\n",
        "\n",
        "    # Display header\n",
        "    print(f\"Calendar for {calendar.month_name[month]} {year}\")\n",
        "    print(\" Mo  Tu  We  Th  Fr  Sa  Su\")\n",
        "\n",
        "    # Display calendar\n",
        "    for week in cal:\n",
        "        for day in week:\n",
        "            if day == 0:\n",
        "                print(\"   \", end=\" \")\n",
        "            else:\n",
        "                print(f\"{day:2d} \", end=\" \")\n",
        "        print()\n",
        "\n",
        "# Get user input for year and month\n",
        "year = int(input(\"Enter the year: \"))\n",
        "month = int(input(\"Enter the month (1-12): \"))\n",
        "\n",
        "# Check if the month entered is valid\n",
        "if 1 <= month <= 12:\n",
        "    # Display the calendar for the specified year and month\n",
        "    display_calendar(year, month)\n",
        "else:\n",
        "    print(\"Invalid month entered. Please enter a month between 1 and 12.\")\n"
      ],
      "metadata": {
        "id": "q-A1wLHlPq-9"
      },
      "execution_count": null,
      "outputs": []
    },
    {
      "cell_type": "markdown",
      "source": [
        "# 13. URL Checker"
      ],
      "metadata": {
        "id": "MUcFvqqaZOW0"
      }
    },
    {
      "cell_type": "code",
      "source": [
        "import requests\n",
        "\n",
        "def check_url(url):\n",
        "    try:\n",
        "        response = requests.get(url)\n",
        "        # Check if the status code is in the range 200-299 (indicating success)\n",
        "        if response.status_code >= 200 and response.status_code < 300:\n",
        "            print(f\"The URL {url} is reachable (Status Code: {response.status_code})\")\n",
        "        else:\n",
        "            print(f\"The URL {url} is not reachable (Status Code: {response.status_code})\")\n",
        "    except requests.ConnectionError:\n",
        "        print(f\"Failed to connect to the URL {url}\")\n",
        "\n",
        "# Example usage\n",
        "url_to_check = \"https://codedamn.com/news/python\"\n",
        "check_url(url_to_check)\n"
      ],
      "metadata": {
        "id": "vEzTTyk1Q4Di"
      },
      "execution_count": null,
      "outputs": []
    },
    {
      "cell_type": "markdown",
      "source": [
        "# 14. File Size Analyzer\n",
        "\n",
        "\n"
      ],
      "metadata": {
        "id": "ot0AlZr-ac2d"
      }
    },
    {
      "cell_type": "code",
      "source": [
        "import os\n",
        "\n",
        "def analyze_file_size(file_path):\n",
        "    try:\n",
        "        # Get file size in bytes\n",
        "        file_size_bytes = os.path.getsize(file_path)\n",
        "\n",
        "        # Convert bytes to kilobytes, megabytes, and gigabytes for better readability\n",
        "        file_size_kb = file_size_bytes / 1024\n",
        "        file_size_mb = file_size_kb / 1024\n",
        "        file_size_gb = file_size_mb / 1024\n",
        "\n",
        "        print(f\"File Size Analysis for: {file_path}\")\n",
        "        print(f\"Size in Bytes: {file_size_bytes} bytes\")\n",
        "        print(f\"Size in Kilobytes: {file_size_kb:.2f} KB\")\n",
        "        print(f\"Size in Megabytes: {file_size_mb:.2f} MB\")\n",
        "        print(f\"Size in Gigabytes: {file_size_gb:.2f} GB\")\n",
        "\n",
        "    except FileNotFoundError:\n",
        "        print(f\"File not found: {file_path}\")\n",
        "    except Exception as e:\n",
        "        print(f\"An error occurred: {e}\")\n",
        "\n",
        "# Example usage\n",
        "file_path_to_analyze = \"/content/finalData.pdf\"\n",
        "analyze_file_size(file_path_to_analyze)\n"
      ],
      "metadata": {
        "colab": {
          "base_uri": "https://localhost:8080/"
        },
        "id": "0ispknKMaU60",
        "outputId": "8f1a4d09-8128-4860-9503-e79e18e1e75c"
      },
      "execution_count": null,
      "outputs": [
        {
          "output_type": "stream",
          "name": "stdout",
          "text": [
            "File Size Analysis for: /content/finalData.pdf\n",
            "Size in Bytes: 28409 bytes\n",
            "Size in Kilobytes: 27.74 KB\n",
            "Size in Megabytes: 0.03 MB\n",
            "Size in Gigabytes: 0.00 GB\n"
          ]
        }
      ]
    },
    {
      "cell_type": "markdown",
      "source": [
        "# 15. Currency Converter"
      ],
      "metadata": {
        "id": "Puu_L4bpdFzG"
      }
    },
    {
      "cell_type": "code",
      "source": [
        "!pip install forex-python"
      ],
      "metadata": {
        "colab": {
          "base_uri": "https://localhost:8080/"
        },
        "id": "1NFBiTqRdTxI",
        "outputId": "46803834-40a2-4110-817a-1e067b92446b"
      },
      "execution_count": null,
      "outputs": [
        {
          "output_type": "stream",
          "name": "stdout",
          "text": [
            "Collecting forex-python\n",
            "  Downloading forex_python-1.8-py3-none-any.whl (8.2 kB)\n",
            "Requirement already satisfied: requests in /usr/local/lib/python3.10/dist-packages (from forex-python) (2.31.0)\n",
            "Collecting simplejson (from forex-python)\n",
            "  Downloading simplejson-3.19.2-cp310-cp310-manylinux_2_5_x86_64.manylinux1_x86_64.manylinux_2_17_x86_64.manylinux2014_x86_64.whl (137 kB)\n",
            "\u001b[2K     \u001b[90m━━━━━━━━━━━━━━━━━━━━━━━━━━━━━━━━━━━━━━━━\u001b[0m \u001b[32m137.9/137.9 kB\u001b[0m \u001b[31m3.3 MB/s\u001b[0m eta \u001b[36m0:00:00\u001b[0m\n",
            "\u001b[?25hRequirement already satisfied: charset-normalizer<4,>=2 in /usr/local/lib/python3.10/dist-packages (from requests->forex-python) (3.3.2)\n",
            "Requirement already satisfied: idna<4,>=2.5 in /usr/local/lib/python3.10/dist-packages (from requests->forex-python) (3.6)\n",
            "Requirement already satisfied: urllib3<3,>=1.21.1 in /usr/local/lib/python3.10/dist-packages (from requests->forex-python) (2.0.7)\n",
            "Requirement already satisfied: certifi>=2017.4.17 in /usr/local/lib/python3.10/dist-packages (from requests->forex-python) (2023.11.17)\n",
            "Installing collected packages: simplejson, forex-python\n",
            "Successfully installed forex-python-1.8 simplejson-3.19.2\n"
          ]
        }
      ]
    },
    {
      "cell_type": "code",
      "source": [
        "from forex_python.converter import CurrencyRates\n",
        "\n",
        "c = CurrencyRates()\n",
        "amount = float(input(\"Enter the amount: \"))\n",
        "from_currency = input(\"From Currency: \").upper()\n",
        "to_currency = input(\"To Currency: \").upper()\n",
        "print(from_currency, \" To \", to_currency, amount)\n",
        "result = c.convert(from_currency, to_currency, amount)\n",
        "print(result)"
      ],
      "metadata": {
        "colab": {
          "base_uri": "https://localhost:8080/"
        },
        "id": "KZn96e-GdENP",
        "outputId": "9a65e65d-4d53-4a26-82b2-1ca964416997"
      },
      "execution_count": null,
      "outputs": [
        {
          "output_type": "stream",
          "name": "stdout",
          "text": [
            "Enter the amount: 34.99\n",
            "From Currency: USD\n",
            "To Currency: inr\n",
            "USD  To  INR 34.99\n",
            "2913.4503842549207\n"
          ]
        }
      ]
    },
    {
      "cell_type": "markdown",
      "source": [
        "# 16. Invoice"
      ],
      "metadata": {
        "id": "Ey9ZWb1ig0aD"
      }
    },
    {
      "cell_type": "code",
      "source": [
        "def calculate_total(items):\n",
        "    return sum(item['quantity'] * item['unit_price'] for item in items)\n",
        "\n",
        "def generate_invoice(customer_name, items):\n",
        "    invoice_str = f\"Invoice for {customer_name}:\\n\"\n",
        "    invoice_str += f\"{'Item':<15}{'Quantity':<10}{'Unit Price':<15}{'Total'}\\n\"\n",
        "    invoice_str += \"-\" * 55 + \"\\n\"\n",
        "\n",
        "    for item in items:\n",
        "        item_total = item['quantity'] * item['unit_price']\n",
        "        invoice_str += f\"{item['item_name']:<15}{item['quantity']:<10}${item['unit_price']:<15,.2f}${item_total:,.2f}\\n\"\n",
        "\n",
        "    invoice_str += \"-\" * 55 + \"\\n\"\n",
        "    invoice_str += f\"{'Total':<40}${calculate_total(items):,.2f}\"\n",
        "\n",
        "    return invoice_str\n",
        "\n",
        "# Example usage:\n",
        "customer_name = \"John Doe\"\n",
        "items = [\n",
        "    {'item_name': \"Widget A\", 'quantity': 2, 'unit_price': 15.99},\n",
        "    {'item_name': \"Gadget B\", 'quantity': 1, 'unit_price': 29.99},\n",
        "    {'item_name': \"Thing C\", 'quantity': 3, 'unit_price': 9.99}\n",
        "]\n",
        "\n",
        "print(generate_invoice(customer_name, items))\n"
      ],
      "metadata": {
        "colab": {
          "base_uri": "https://localhost:8080/"
        },
        "id": "H7d0byuNdZCH",
        "outputId": "b34584a4-59e8-4902-a9ae-20b0ef326de3"
      },
      "execution_count": null,
      "outputs": [
        {
          "output_type": "stream",
          "name": "stdout",
          "text": [
            "Invoice for John Doe:\n",
            "Item           Quantity  Unit Price     Total\n",
            "-------------------------------------------------------\n",
            "Widget A       2         $15.99          $31.98\n",
            "Gadget B       1         $29.99          $29.99\n",
            "Thing C        3         $9.99           $29.97\n",
            "-------------------------------------------------------\n",
            "Total                                   $91.94\n"
          ]
        }
      ]
    },
    {
      "cell_type": "markdown",
      "source": [
        "# 17. Calculate_rectangle_area"
      ],
      "metadata": {
        "id": "_0RSIZvyemH4"
      }
    },
    {
      "cell_type": "code",
      "source": [
        "def calculate_rectangle_area(length, width):\n",
        "    area = length * width\n",
        "    return area\n",
        "\n",
        "def calculate_total_area(num_rectangles):\n",
        "    total_area = 0\n",
        "\n",
        "    for i in range(num_rectangles):\n",
        "        print(f\"\\nRectangle {i + 1}\")\n",
        "        length = float(input(\"Enter the length: \"))\n",
        "        width = float(input(\"Enter the width: \"))\n",
        "        area = calculate_rectangle_area(length, width)\n",
        "        total_area += area\n",
        "\n",
        "    return total_area\n",
        "\n",
        "# User input for the number of rectangles\n",
        "num_rectangles = int(input(\"Enter the number of rectangles: \"))\n",
        "\n",
        "# Calculate and display the total area\n",
        "total_area = calculate_total_area(num_rectangles)\n",
        "print(f\"\\nThe total area of all rectangles is: {total_area}\")"
      ],
      "metadata": {
        "id": "26gL_0HHlg1m",
        "colab": {
          "base_uri": "https://localhost:8080/"
        },
        "outputId": "09951cf7-b42c-4b95-9f5e-a74bb8c93e55"
      },
      "execution_count": null,
      "outputs": [
        {
          "output_type": "stream",
          "name": "stdout",
          "text": [
            "Enter the number of rectangles: 2\n",
            "\n",
            "Rectangle 1\n",
            "Enter the length: 32\n",
            "Enter the width: 12\n",
            "\n",
            "Rectangle 2\n",
            "Enter the length: 34\n",
            "Enter the width: 54\n",
            "\n",
            "The total area of all rectangles is: 2220.0\n"
          ]
        }
      ]
    },
    {
      "cell_type": "markdown",
      "source": [
        "# 18. Language Translator"
      ],
      "metadata": {
        "id": "woj9xMFMgNe7"
      }
    },
    {
      "cell_type": "code",
      "source": [
        "!pip install googletrans==4.0.0-rc1"
      ],
      "metadata": {
        "id": "7K6Qcs0_eysb"
      },
      "execution_count": null,
      "outputs": []
    },
    {
      "cell_type": "code",
      "source": [
        "from googletrans import Translator\n",
        "\n",
        "def translate_text(text, target_language='en'):\n",
        "    translator = Translator()\n",
        "    translation = translator.translate(text, dest=target_language)\n",
        "    return translation.text\n",
        "\n",
        "# Example usage:\n",
        "text_to_translate = \"Hello, how are you?\"\n",
        "\n",
        "#Documentation ink and language codes  https://py-googletrans.readthedocs.io/en/latest/\n",
        "target_language_code = \"ta\"  # Replace with the desired target language code\n",
        "\n",
        "translated_text = translate_text(text_to_translate, target_language_code)\n",
        "print(f\"Original Text: {text_to_translate}\")\n",
        "print(f\"Translated Text ({target_language_code}): {translated_text}\")\n"
      ],
      "metadata": {
        "id": "zpOZwwswgSI2"
      },
      "execution_count": null,
      "outputs": []
    },
    {
      "cell_type": "markdown",
      "source": [
        "# 19. Word Cloud Generator"
      ],
      "metadata": {
        "id": "fOBX0a6Ii0xa"
      }
    },
    {
      "cell_type": "code",
      "source": [
        "from wordcloud import WordCloud\n",
        "import matplotlib.pyplot as plt\n",
        "\n",
        "# Sample text (replace this with your own text or load from a file)\n",
        "text = \"Python is a powerful programming language used for web development, data science, and artificial intelligence.\"\n",
        "\n",
        "# Generate word cloud\n",
        "wordcloud = WordCloud(width=800, height=400, background_color=\"white\").generate(text)\n",
        "\n",
        "# Display the generated word cloud using Matplotlib\n",
        "plt.figure(figsize=(10, 5))\n",
        "plt.imshow(wordcloud, interpolation=\"bilinear\")\n",
        "plt.axis(\"off\")  # Turn off axis labels\n",
        "plt.show()\n"
      ],
      "metadata": {
        "id": "zXADd24EgW2L"
      },
      "execution_count": null,
      "outputs": []
    },
    {
      "cell_type": "markdown",
      "source": [
        "# 20. BMI calculator"
      ],
      "metadata": {
        "id": "AoQi0KfRBByJ"
      }
    },
    {
      "cell_type": "code",
      "source": [
        "Height=float(input(\"Enter your height in centimeters: \"))\n",
        "Weight=float(input(\"Enter your Weight in Kg: \"))\n",
        "Height = Height/100\n",
        "BMI=Weight/(Height*Height)\n",
        "print(\"your Body Mass Index is: \",BMI)\n",
        "if(BMI>0):\n",
        "\tif(BMI<=16):\n",
        "\t\tprint(\"you are severely underweight\")\n",
        "\telif(BMI<=18.5):\n",
        "\t\tprint(\"you are underweight\")\n",
        "\telif(BMI<=25):\n",
        "\t\tprint(\"you are Healthy\")\n",
        "\telif(BMI<=30):\n",
        "\t\tprint(\"you are overweight\")\n",
        "\telse: print(\"you are severely overweight\")\n",
        "else:(\"enter valid details\")"
      ],
      "metadata": {
        "id": "aFiwxmcxiqND",
        "colab": {
          "base_uri": "https://localhost:8080/"
        },
        "outputId": "cf9f4684-113d-4c8a-bb20-0ea469b33e76"
      },
      "execution_count": null,
      "outputs": [
        {
          "output_type": "stream",
          "name": "stdout",
          "text": [
            "Enter your height in centimeters: 168\n",
            "Enter your Weight in Kg: 70\n",
            "your Body Mass Index is:  24.801587301587304\n",
            "you are Healthy\n"
          ]
        }
      ]
    },
    {
      "cell_type": "markdown",
      "source": [
        "# 21. Text to speech"
      ],
      "metadata": {
        "id": "KWP9klQvwtMU"
      }
    },
    {
      "cell_type": "code",
      "source": [
        "!pip install gtts"
      ],
      "metadata": {
        "id": "nUu_jqVDBFuR",
        "colab": {
          "base_uri": "https://localhost:8080/"
        },
        "outputId": "8d88e3ff-f2a8-410f-e195-ac486065608f"
      },
      "execution_count": null,
      "outputs": [
        {
          "output_type": "stream",
          "name": "stdout",
          "text": [
            "Collecting gtts\n",
            "  Downloading gTTS-2.5.1-py3-none-any.whl (29 kB)\n",
            "Requirement already satisfied: requests<3,>=2.27 in /usr/local/lib/python3.10/dist-packages (from gtts) (2.31.0)\n",
            "Requirement already satisfied: click<8.2,>=7.1 in /usr/local/lib/python3.10/dist-packages (from gtts) (8.1.7)\n",
            "Requirement already satisfied: charset-normalizer<4,>=2 in /usr/local/lib/python3.10/dist-packages (from requests<3,>=2.27->gtts) (3.3.2)\n",
            "Requirement already satisfied: idna<4,>=2.5 in /usr/local/lib/python3.10/dist-packages (from requests<3,>=2.27->gtts) (3.6)\n",
            "Requirement already satisfied: urllib3<3,>=1.21.1 in /usr/local/lib/python3.10/dist-packages (from requests<3,>=2.27->gtts) (2.0.7)\n",
            "Requirement already satisfied: certifi>=2017.4.17 in /usr/local/lib/python3.10/dist-packages (from requests<3,>=2.27->gtts) (2023.11.17)\n",
            "Installing collected packages: gtts\n",
            "Successfully installed gtts-2.5.1\n"
          ]
        }
      ]
    },
    {
      "cell_type": "code",
      "source": [
        "from gtts import gTTS\n",
        "import os\n",
        "\n",
        "def text_to_speech(text, language='en', filename='output.mp3'):\n",
        "    \"\"\"\n",
        "    Convert text to speech and save it as an audio file.\n",
        "\n",
        "    Parameters:\n",
        "    - text: The text to be converted to speech.\n",
        "    - language: The language of the text (default is English).\n",
        "    - filename: The name of the output audio file (default is 'output.mp3').\n",
        "    \"\"\"\n",
        "    tts = gTTS(text=text, lang=language, slow=False)\n",
        "    tts.save(filename)\n",
        "    os.system(f\"start {filename}\")  # This opens the audio file using the default media player\n",
        "\n",
        "# Example usage:\n",
        "text = \"Hello, this is a sample text to be converted to speech. My name is Deepanraj\"\n",
        "text_to_speech(text)\n",
        "\n"
      ],
      "metadata": {
        "id": "Q8H0piNbwyPw"
      },
      "execution_count": null,
      "outputs": []
    },
    {
      "cell_type": "markdown",
      "source": [
        "# 22. Email Generator"
      ],
      "metadata": {
        "id": "0po6sLD40cfU"
      }
    },
    {
      "cell_type": "code",
      "source": [
        "import random\n",
        "import string\n",
        "\n",
        "def generate_email():\n",
        "    # Generating a random username\n",
        "    username = ''.join(random.choice(string.ascii_lowercase + string.digits) for _ in range(8))\n",
        "    # username = ''.join(random.choice(string.ascii_lowercase) for _ in range(8))\n",
        "\n",
        "    # Generating a random domain\n",
        "    domain = 'gmail.com'\n",
        "    # domains = ['gmail.com', 'yahoo.com', 'hotmail.com', 'example.com']\n",
        "    # domain = random.choice(domains)\n",
        "\n",
        "    # Combining username and domain to create the email address\n",
        "    email = f'{username}@{domain}'\n",
        "\n",
        "    return email\n",
        "\n",
        "# Example usage\n",
        "random_email = generate_email()\n",
        "print(f\"Random Email Address: {random_email}\")\n"
      ],
      "metadata": {
        "id": "BJUfYZrqw6Bm",
        "colab": {
          "base_uri": "https://localhost:8080/"
        },
        "outputId": "9abd2bce-90e3-4cdb-9114-6aec59fb3c71"
      },
      "execution_count": null,
      "outputs": [
        {
          "output_type": "stream",
          "name": "stdout",
          "text": [
            "Random Email Address: o6wr8w0o@gmail.com\n"
          ]
        }
      ]
    },
    {
      "cell_type": "markdown",
      "source": [
        "# 23. Fake Details Generator"
      ],
      "metadata": {
        "id": "Ohe19sJF7QsL"
      }
    },
    {
      "cell_type": "code",
      "source": [
        "!pip install faker"
      ],
      "metadata": {
        "colab": {
          "base_uri": "https://localhost:8080/"
        },
        "id": "okG_b-cp7XXg",
        "outputId": "f6bf3fa4-81ed-4f1f-b3e6-b368dbcc7adb"
      },
      "execution_count": null,
      "outputs": [
        {
          "output_type": "stream",
          "name": "stdout",
          "text": [
            "Collecting faker\n",
            "  Downloading Faker-22.5.1-py3-none-any.whl (1.7 MB)\n",
            "\u001b[2K     \u001b[90m━━━━━━━━━━━━━━━━━━━━━━━━━━━━━━━━━━━━━━━━\u001b[0m \u001b[32m1.7/1.7 MB\u001b[0m \u001b[31m10.7 MB/s\u001b[0m eta \u001b[36m0:00:00\u001b[0m\n",
            "\u001b[?25hRequirement already satisfied: python-dateutil>=2.4 in /usr/local/lib/python3.10/dist-packages (from faker) (2.8.2)\n",
            "Requirement already satisfied: six>=1.5 in /usr/local/lib/python3.10/dist-packages (from python-dateutil>=2.4->faker) (1.16.0)\n",
            "Installing collected packages: faker\n",
            "Successfully installed faker-22.5.1\n"
          ]
        }
      ]
    },
    {
      "cell_type": "markdown",
      "source": [
        "Faker Documentation\n",
        "\n",
        "https://faker.readthedocs.io/en/master/"
      ],
      "metadata": {
        "id": "8IxOvsPq-JxA"
      }
    },
    {
      "cell_type": "code",
      "source": [
        "from faker import Faker\n",
        "\n",
        "def generate_fake_address():\n",
        "    fake = Faker()\n",
        "    fake_address = fake.address()\n",
        "\n",
        "    return fake_address\n",
        "\n",
        "# Example usage\n",
        "random_address = generate_fake_address()\n",
        "print(f\"Fake Address: {random_address}\")\n"
      ],
      "metadata": {
        "colab": {
          "base_uri": "https://localhost:8080/"
        },
        "id": "nOueKg2u7SC8",
        "outputId": "4fa795dc-9b54-49af-a48e-608c73225928"
      },
      "execution_count": null,
      "outputs": [
        {
          "output_type": "stream",
          "name": "stdout",
          "text": [
            "Fake Address: 235 Jennifer Station Apt. 980\n",
            "Port Mitchell, WV 91011\n"
          ]
        }
      ]
    },
    {
      "cell_type": "markdown",
      "source": [
        "**Tamil**"
      ],
      "metadata": {
        "id": "8B9DkNWI9XBg"
      }
    },
    {
      "cell_type": "code",
      "source": [
        "from faker import Faker\n",
        "fake = Faker(['ta_IN'])\n",
        "# for _ in range(10):\n",
        "print(fake.name(),'\\n\\n')\n",
        "print(fake.address())"
      ],
      "metadata": {
        "colab": {
          "base_uri": "https://localhost:8080/"
        },
        "id": "3RD7HMXN7UJg",
        "outputId": "414d21af-3c83-46fb-bdee-fef5780b235f"
      },
      "execution_count": null,
      "outputs": [
        {
          "output_type": "stream",
          "name": "stdout",
          "text": [
            "தங்கராஐ; \n",
            "\n",
            "\n",
            "1/3 நன்மதி மணவழகி\n",
            "கோரக்பூர் 593462\n"
          ]
        }
      ]
    },
    {
      "cell_type": "markdown",
      "source": [
        "# 24. OTP Verification"
      ],
      "metadata": {
        "id": "nAG9toag-gWQ"
      }
    },
    {
      "cell_type": "code",
      "source": [
        "import random\n",
        "\n",
        "def otp_verification():\n",
        "    def generate_otp():\n",
        "        # Generate a 6-digit OTP\n",
        "        return ''.join([str(random.randint(0, 9)) for _ in range(6)])\n",
        "\n",
        "    def verify_otp(expected_otp, entered_otp):\n",
        "        return expected_otp == entered_otp\n",
        "\n",
        "    # Step 1: Generate and send OTP\n",
        "    generated_otp = generate_otp()\n",
        "    print(f\"Generated OTP: {generated_otp}\")\n",
        "\n",
        "    # Step 2: User enters OTP\n",
        "    entered_otp = input(\"Enter OTP: \")\n",
        "\n",
        "    # Step 3: Verify OTP\n",
        "    if verify_otp(generated_otp, entered_otp):\n",
        "        return \"OTP Verification Successful!\"\n",
        "    else:\n",
        "        return \"Incorrect OTP. Verification Failed.\"\n",
        "\n",
        "# Example usage\n",
        "result = otp_verification()\n",
        "print(result)\n"
      ],
      "metadata": {
        "id": "ioOUC4KCGcdU"
      },
      "execution_count": null,
      "outputs": []
    },
    {
      "cell_type": "markdown",
      "source": [
        "# 25. Number to Word"
      ],
      "metadata": {
        "id": "ZufBW3u0Gu57"
      }
    },
    {
      "cell_type": "code",
      "source": [],
      "metadata": {
        "id": "4eAG3AvgWl_K"
      },
      "execution_count": null,
      "outputs": []
    },
    {
      "cell_type": "code",
      "source": [
        "!pip install num2words"
      ],
      "metadata": {
        "colab": {
          "base_uri": "https://localhost:8080/"
        },
        "id": "kNNsv7i3UpYJ",
        "outputId": "5ef6276a-7b02-460b-d2cc-87c972c90cea"
      },
      "execution_count": null,
      "outputs": [
        {
          "output_type": "stream",
          "name": "stdout",
          "text": [
            "Collecting num2words\n",
            "  Downloading num2words-0.5.13-py3-none-any.whl (143 kB)\n",
            "\u001b[?25l     \u001b[90m━━━━━━━━━━━━━━━━━━━━━━━━━━━━━━━━━━━━━━━━\u001b[0m \u001b[32m0.0/143.3 kB\u001b[0m \u001b[31m?\u001b[0m eta \u001b[36m-:--:--\u001b[0m\r\u001b[2K     \u001b[91m━━━━━━━━━━━━━━━━━━━━━━━━━━━━━━━━━━━━━\u001b[0m\u001b[90m╺\u001b[0m\u001b[90m━━\u001b[0m \u001b[32m133.1/143.3 kB\u001b[0m \u001b[31m3.8 MB/s\u001b[0m eta \u001b[36m0:00:01\u001b[0m\r\u001b[2K     \u001b[90m━━━━━━━━━━━━━━━━━━━━━━━━━━━━━━━━━━━━━━━━\u001b[0m \u001b[32m143.3/143.3 kB\u001b[0m \u001b[31m3.3 MB/s\u001b[0m eta \u001b[36m0:00:00\u001b[0m\n",
            "\u001b[?25hCollecting docopt>=0.6.2 (from num2words)\n",
            "  Downloading docopt-0.6.2.tar.gz (25 kB)\n",
            "  Preparing metadata (setup.py) ... \u001b[?25l\u001b[?25hdone\n",
            "Building wheels for collected packages: docopt\n",
            "  Building wheel for docopt (setup.py) ... \u001b[?25l\u001b[?25hdone\n",
            "  Created wheel for docopt: filename=docopt-0.6.2-py2.py3-none-any.whl size=13706 sha256=8be3101cdee99afbe3ec9046ef150fbdb232c9418e6823ec43dc6fbffc2765ae\n",
            "  Stored in directory: /root/.cache/pip/wheels/fc/ab/d4/5da2067ac95b36618c629a5f93f809425700506f72c9732fac\n",
            "Successfully built docopt\n",
            "Installing collected packages: docopt, num2words\n",
            "Successfully installed docopt-0.6.2 num2words-0.5.13\n"
          ]
        }
      ]
    },
    {
      "cell_type": "code",
      "source": [
        "import num2words as n2w\n",
        "\n",
        "def num_to_words(given_num):\n",
        "    if given_num.replace(\".\", \"\").isdigit():  # Check if the input is a valid number\n",
        "        given_num = float(given_num)\n",
        "        num_in_word = n2w.num2words(given_num).capitalize()\n",
        "        print(f\"{given_num} in words: {num_in_word}\")\n",
        "    else:\n",
        "        print(\"Invalid input. Please enter a valid number.\")\n",
        "\n",
        "if __name__ == \"__main__\":\n",
        "    user_input = input(\"Enter a number: \")\n",
        "    num_to_words(user_input)\n",
        "\n"
      ],
      "metadata": {
        "id": "W9fdy6UWGdLK",
        "colab": {
          "base_uri": "https://localhost:8080/"
        },
        "outputId": "93608e5d-f0dc-4b4e-ff66-718434c6ee97"
      },
      "execution_count": null,
      "outputs": [
        {
          "output_type": "stream",
          "name": "stdout",
          "text": [
            "Enter a number: 574\n",
            "574.0 in words: Five hundred and seventy-four\n"
          ]
        }
      ]
    },
    {
      "cell_type": "markdown",
      "source": [
        "# 26. Chat Bot"
      ],
      "metadata": {
        "id": "HuW3LRB0sLvu"
      }
    },
    {
      "cell_type": "code",
      "source": [
        "!pip install transformers"
      ],
      "metadata": {
        "colab": {
          "base_uri": "https://localhost:8080/"
        },
        "id": "-JumjF0RwMwJ",
        "outputId": "4d303a74-b3ca-4950-ab2a-7a2a23a72cbd"
      },
      "execution_count": null,
      "outputs": [
        {
          "output_type": "stream",
          "name": "stdout",
          "text": [
            "Requirement already satisfied: transformers in /usr/local/lib/python3.10/dist-packages (4.35.2)\n",
            "Requirement already satisfied: filelock in /usr/local/lib/python3.10/dist-packages (from transformers) (3.13.1)\n",
            "Requirement already satisfied: huggingface-hub<1.0,>=0.16.4 in /usr/local/lib/python3.10/dist-packages (from transformers) (0.20.3)\n",
            "Requirement already satisfied: numpy>=1.17 in /usr/local/lib/python3.10/dist-packages (from transformers) (1.23.5)\n",
            "Requirement already satisfied: packaging>=20.0 in /usr/local/lib/python3.10/dist-packages (from transformers) (23.2)\n",
            "Requirement already satisfied: pyyaml>=5.1 in /usr/local/lib/python3.10/dist-packages (from transformers) (6.0.1)\n",
            "Requirement already satisfied: regex!=2019.12.17 in /usr/local/lib/python3.10/dist-packages (from transformers) (2023.6.3)\n",
            "Requirement already satisfied: requests in /usr/local/lib/python3.10/dist-packages (from transformers) (2.31.0)\n",
            "Requirement already satisfied: tokenizers<0.19,>=0.14 in /usr/local/lib/python3.10/dist-packages (from transformers) (0.15.1)\n",
            "Requirement already satisfied: safetensors>=0.3.1 in /usr/local/lib/python3.10/dist-packages (from transformers) (0.4.2)\n",
            "Requirement already satisfied: tqdm>=4.27 in /usr/local/lib/python3.10/dist-packages (from transformers) (4.66.1)\n",
            "Requirement already satisfied: fsspec>=2023.5.0 in /usr/local/lib/python3.10/dist-packages (from huggingface-hub<1.0,>=0.16.4->transformers) (2023.6.0)\n",
            "Requirement already satisfied: typing-extensions>=3.7.4.3 in /usr/local/lib/python3.10/dist-packages (from huggingface-hub<1.0,>=0.16.4->transformers) (4.5.0)\n",
            "Requirement already satisfied: charset-normalizer<4,>=2 in /usr/local/lib/python3.10/dist-packages (from requests->transformers) (3.3.2)\n",
            "Requirement already satisfied: idna<4,>=2.5 in /usr/local/lib/python3.10/dist-packages (from requests->transformers) (3.6)\n",
            "Requirement already satisfied: urllib3<3,>=1.21.1 in /usr/local/lib/python3.10/dist-packages (from requests->transformers) (2.0.7)\n",
            "Requirement already satisfied: certifi>=2017.4.17 in /usr/local/lib/python3.10/dist-packages (from requests->transformers) (2023.11.17)\n"
          ]
        }
      ]
    },
    {
      "source": [
        "from transformers import GPT2LMHeadModel, GPT2Tokenizer\n",
        "\n",
        "def initialize_model():\n",
        "    # Load pre-trained GPT-2 model and tokenizer\n",
        "    model = GPT2LMHeadModel.from_pretrained(\"gpt2\")\n",
        "    tokenizer = GPT2Tokenizer.from_pretrained(\"gpt2\")\n",
        "    return model, tokenizer\n",
        "\n",
        "def generate_response(model, tokenizer, user_input, max_length=50):\n",
        "    # Tokenize user input and generate response\n",
        "    input_ids = tokenizer.encode(user_input, return_tensors=\"pt\")\n",
        "    output_ids = model.generate(input_ids, max_length=max_length, num_beams=5, no_repeat_ngram_size=2, top_k=50, top_p=0.95, temperature=0.7)\n",
        "    response = tokenizer.decode(output_ids[0], skip_special_tokens=True)\n",
        "    return response\n",
        "\n",
        "# Initialize the model and tokenizer\n",
        "model, tokenizer = initialize_model()\n",
        "\n",
        "# Example usage\n",
        "print(\"Chatbot: Hello! How can I assist you today? Type 'exit' to end the conversation.\")\n",
        "\n",
        "while True:\n",
        "    user_input = input(\"You: \")\n",
        "\n",
        "    if user_input.lower() == 'exit':\n",
        "        print(\"Chatbot: Goodbye!\")\n",
        "        break\n",
        "\n",
        "    response = generate_response(model, tokenizer, user_input)\n",
        "    print(\"Chatbot:\", response)\n"
      ],
      "cell_type": "code",
      "metadata": {
        "id": "BD9fYYuPUmjX",
        "colab": {
          "base_uri": "https://localhost:8080/",
          "height": 646,
          "referenced_widgets": [
            "04cb37bd288740629a575db6e8f520c3",
            "decefee70a8c42c2a03f4333d1f91bf2",
            "f3d4d992e2c841f186a06659046f0f0f",
            "65fdffb46e8a4681b8c410acf4a80da9",
            "7135ffa74fd340bd9f0009588837571a",
            "89b3f439baa146878447dfa71a0b2e67",
            "d5b1f74f3ded428987e42f68c7e819e3",
            "db900757729c43568869de710cc0f91e",
            "bd31028d84bb49369cb8abea06ed5c6d",
            "0ce0fc9ae5aa44ca8bf9910ec92dd866",
            "2a1b39b47956421d8d9167abca1a35a6",
            "31e2d6f643624167a8eea1860070d742",
            "ebd7d8d0c64343388643cb9c7992f14f",
            "b3eddb9d6b964f1a81dc1ad63719ec09",
            "6b8f4ce5c62c4637ba7408d02504a1d8",
            "b5e2a0be7513434d8fd43fbad6f862c3",
            "7c72a50047164676a3a27847d123d471",
            "4d45af545f1740d2954822269da26d76",
            "f4777baa814d4e17961f62678525b9d7",
            "638ca50136bf42699b748e2bd345d28a",
            "86c45433292e469f96345b34ae0ba82b",
            "283aee11b4d64d43b88d0594ee95a161",
            "73167777c52e4af9be7d6ea432da7f7f",
            "de57ba98426a484596b202f6206fd2d0",
            "ffe2c5fac8bc483a9a5a6c37cfd25a7f",
            "6b668e15175549198fefb6b74dae2013",
            "70d94add25354ba6a3ff936dc8d06df6",
            "9b0b25c221564caebb7006224fb2981b",
            "32817d53cfac4c0d93209d816a6aede3",
            "c7ee28b04c56410da7f57b2ff6e24c39",
            "d332212683a548ff9704b219dbdd4f9e",
            "509ad16f4eff4656afc16237d7b74ed1",
            "aa1e14d48b004c6882289386f0eef3b5",
            "ddcec0ae9f764a9a88d02ac94d42e9c4",
            "9662c1c7a69047f2bb044945a38ae522",
            "ba9a7a8ae8cd4f0a91d85f9e7925264f",
            "989fb54ff55841a89148fc3fab6968b2",
            "b9c626693e384298afe27c8623d12a03",
            "0505215b28804719ab3a5dd39a41de14",
            "311463972b44432ba107a746985f8da6",
            "10a63783d9714946a2dca78978cd53aa",
            "df32cdd8d72443ac814f437f801a99ff",
            "17f6a35bcc9e46c6807e1352ae02fd95",
            "ab34226157fc40fc93cdea9928dd1898",
            "7335a725674b4509a3ebdcc15246358e",
            "01753863b15d4ec09e5f5912d25a25e9",
            "6aa67503d2ca485fa679099d1ad95485",
            "04913637c84f42f9872aa51f44ecb465",
            "86bb9d47c9ff47628874501db6351ce5",
            "86ae44010e304ba8b3d72f1f86f7e5cc",
            "cbb4da86e9674a649145bde13be85004",
            "084494d7878d4f35af9f2a9fd196ffce",
            "236be889e6cc43e4bc724bd61304038d",
            "1263007c2de440c78cdc8e1606b9df75",
            "bd83500b9f134caeb4f4e600300f1fdd",
            "b77d13958cd04c85a86f95e436a94299",
            "a13c63c981b2425c9cb488c754a0932a",
            "e4200d752aa14d7e9465ea8a2863eb1d",
            "6c0e88cf850943e98906a40bd41bc4eb",
            "fa2e798871024f5aa0da5e45dc52e2b0",
            "6f3c49de7d9442f88ee621edfda26ac9",
            "0cb70d78aceb4dfca69b77e587c42536",
            "7a1ca7b4dfc44d6b902957329e4963ec",
            "06f35bf1142646b5a89177186cb5cda3",
            "f8c82334d4ca4d27a979bb6c75cdf58b",
            "4c5876bb34044044a750096863238057"
          ]
        },
        "outputId": "fd54eeb2-1e22-41da-86b9-2461096a1ca2"
      },
      "execution_count": null,
      "outputs": [
        {
          "output_type": "display_data",
          "data": {
            "text/plain": [
              "config.json:   0%|          | 0.00/665 [00:00<?, ?B/s]"
            ],
            "application/vnd.jupyter.widget-view+json": {
              "version_major": 2,
              "version_minor": 0,
              "model_id": "04cb37bd288740629a575db6e8f520c3"
            }
          },
          "metadata": {}
        },
        {
          "output_type": "display_data",
          "data": {
            "text/plain": [
              "model.safetensors:   0%|          | 0.00/548M [00:00<?, ?B/s]"
            ],
            "application/vnd.jupyter.widget-view+json": {
              "version_major": 2,
              "version_minor": 0,
              "model_id": "31e2d6f643624167a8eea1860070d742"
            }
          },
          "metadata": {}
        },
        {
          "output_type": "display_data",
          "data": {
            "text/plain": [
              "generation_config.json:   0%|          | 0.00/124 [00:00<?, ?B/s]"
            ],
            "application/vnd.jupyter.widget-view+json": {
              "version_major": 2,
              "version_minor": 0,
              "model_id": "73167777c52e4af9be7d6ea432da7f7f"
            }
          },
          "metadata": {}
        },
        {
          "output_type": "display_data",
          "data": {
            "text/plain": [
              "vocab.json:   0%|          | 0.00/1.04M [00:00<?, ?B/s]"
            ],
            "application/vnd.jupyter.widget-view+json": {
              "version_major": 2,
              "version_minor": 0,
              "model_id": "ddcec0ae9f764a9a88d02ac94d42e9c4"
            }
          },
          "metadata": {}
        },
        {
          "output_type": "display_data",
          "data": {
            "text/plain": [
              "merges.txt:   0%|          | 0.00/456k [00:00<?, ?B/s]"
            ],
            "application/vnd.jupyter.widget-view+json": {
              "version_major": 2,
              "version_minor": 0,
              "model_id": "7335a725674b4509a3ebdcc15246358e"
            }
          },
          "metadata": {}
        },
        {
          "output_type": "display_data",
          "data": {
            "text/plain": [
              "tokenizer.json:   0%|          | 0.00/1.36M [00:00<?, ?B/s]"
            ],
            "application/vnd.jupyter.widget-view+json": {
              "version_major": 2,
              "version_minor": 0,
              "model_id": "b77d13958cd04c85a86f95e436a94299"
            }
          },
          "metadata": {}
        },
        {
          "name": "stdout",
          "output_type": "stream",
          "text": [
            "Chatbot: Hello! How can I assist you today? Type 'exit' to end the conversation.\n",
            "You: Hii\n"
          ]
        },
        {
          "output_type": "stream",
          "name": "stderr",
          "text": [
            "/usr/local/lib/python3.10/dist-packages/transformers/generation/configuration_utils.py:381: UserWarning: `do_sample` is set to `False`. However, `temperature` is set to `0.7` -- this flag is only used in sample-based generation modes. You should set `do_sample=True` or unset `temperature`.\n",
            "  warnings.warn(\n",
            "/usr/local/lib/python3.10/dist-packages/transformers/generation/configuration_utils.py:386: UserWarning: `do_sample` is set to `False`. However, `top_p` is set to `0.95` -- this flag is only used in sample-based generation modes. You should set `do_sample=True` or unset `top_p`.\n",
            "  warnings.warn(\n",
            "The attention mask and the pad token id were not set. As a consequence, you may observe unexpected behavior. Please pass your input's `attention_mask` to obtain reliable results.\n",
            "Setting `pad_token_id` to `eos_token_id`:50256 for open-end generation.\n"
          ]
        },
        {
          "name": "stdout",
          "output_type": "stream",
          "text": [
            "Chatbot: Hiiiiiii.\n",
            "\n",
            "(b) A person who violates subsection (a) is guilty of a misdemeanor of the first degree, punishable as provided in s. 775.082 or s., 810.072, or 9\n",
            "You: what are you doing\n"
          ]
        },
        {
          "output_type": "stream",
          "name": "stderr",
          "text": [
            "/usr/local/lib/python3.10/dist-packages/transformers/generation/configuration_utils.py:381: UserWarning: `do_sample` is set to `False`. However, `temperature` is set to `0.7` -- this flag is only used in sample-based generation modes. You should set `do_sample=True` or unset `temperature`.\n",
            "  warnings.warn(\n",
            "/usr/local/lib/python3.10/dist-packages/transformers/generation/configuration_utils.py:386: UserWarning: `do_sample` is set to `False`. However, `top_p` is set to `0.95` -- this flag is only used in sample-based generation modes. You should set `do_sample=True` or unset `top_p`.\n",
            "  warnings.warn(\n",
            "The attention mask and the pad token id were not set. As a consequence, you may observe unexpected behavior. Please pass your input's `attention_mask` to obtain reliable results.\n",
            "Setting `pad_token_id` to `eos_token_id`:50256 for open-end generation.\n"
          ]
        },
        {
          "output_type": "stream",
          "name": "stdout",
          "text": [
            "Chatbot: what are you doing?\"\n",
            "\n",
            "\"I don't know,\" she said. \"I'm just trying to figure out what's going on. I can't tell you what I'm doing, but I know what you're going to do.\"\n",
            "\n",
            "You: exit\n",
            "Chatbot: Goodbye!\n"
          ]
        }
      ]
    },
    {
      "cell_type": "markdown",
      "source": [],
      "metadata": {
        "id": "O2L1nbw9ZLYK"
      }
    },
    {
      "cell_type": "markdown",
      "source": [
        "# 27. Creating payment receipts"
      ],
      "metadata": {
        "id": "8k--k6MRrjCq"
      }
    },
    {
      "cell_type": "code",
      "source": [
        "!pip install reportlab"
      ],
      "metadata": {
        "colab": {
          "base_uri": "https://localhost:8080/"
        },
        "id": "1YAATRu_rIRt",
        "outputId": "5ee255b8-88b2-4b90-8c3a-5d8a5f8141c8"
      },
      "execution_count": null,
      "outputs": [
        {
          "output_type": "stream",
          "name": "stdout",
          "text": [
            "Collecting reportlab\n",
            "  Downloading reportlab-4.0.9-py3-none-any.whl (1.9 MB)\n",
            "\u001b[2K     \u001b[90m━━━━━━━━━━━━━━━━━━━━━━━━━━━━━━━━━━━━━━━━\u001b[0m \u001b[32m1.9/1.9 MB\u001b[0m \u001b[31m9.4 MB/s\u001b[0m eta \u001b[36m0:00:00\u001b[0m\n",
            "\u001b[?25hRequirement already satisfied: pillow>=9.0.0 in /usr/local/lib/python3.10/dist-packages (from reportlab) (9.4.0)\n",
            "Requirement already satisfied: chardet in /usr/local/lib/python3.10/dist-packages (from reportlab) (5.2.0)\n",
            "Installing collected packages: reportlab\n",
            "Successfully installed reportlab-4.0.9\n"
          ]
        }
      ]
    },
    {
      "cell_type": "code",
      "source": [
        "from reportlab.pdfgen import canvas\n",
        "from reportlab.lib.pagesizes import letter\n",
        "from datetime import datetime\n",
        "\n",
        "def create_payment_receipt(customer_name, amount_paid, payment_method):\n",
        "    # Create a unique filename based on the current timestamp\n",
        "    filename = f\"payment_receipt_{datetime.now().strftime('%Y%m%d%H%M%S')}.pdf\"\n",
        "\n",
        "    # Create a PDF document\n",
        "    pdf_canvas = canvas.Canvas(filename, pagesize=letter)\n",
        "\n",
        "    # Set font\n",
        "    pdf_canvas.setFont(\"Helvetica\", 12)\n",
        "\n",
        "    # Add content to the PDF\n",
        "    pdf_canvas.drawString(100, 750, \"Payment Receipt\")\n",
        "    pdf_canvas.drawString(100, 730, f\"Date: {datetime.now().strftime('%Y-%m-%d %H:%M:%S')}\")\n",
        "    pdf_canvas.drawString(100, 710, f\"Customer: {customer_name}\")\n",
        "    pdf_canvas.drawString(100, 690, f\"Amount Paid: ${amount_paid:.2f}\")\n",
        "    pdf_canvas.drawString(100, 670, f\"Payment Method: {payment_method}\")\n",
        "\n",
        "    # Save the PDF file\n",
        "    pdf_canvas.save()\n",
        "\n",
        "    print(f\"Payment receipt saved to {filename}\")\n",
        "\n",
        "    # Print receipt details in the console\n",
        "    print(\"\\n----- Receipt Details -----\\n\")\n",
        "    print(f\"Date: {datetime.now().strftime('%Y-%m-%d %H:%M:%S')}\")\n",
        "    print(f\"Customer: {customer_name}\")\n",
        "    print(f\"Amount Paid: ${amount_paid:.2f}\")\n",
        "    print(f\"Payment Method: {payment_method}\")\n",
        "\n",
        "# Example usage\n",
        "create_payment_receipt(\"John Doe\", 50.00, \"Credit Card\")\n"
      ],
      "metadata": {
        "colab": {
          "base_uri": "https://localhost:8080/"
        },
        "id": "KCLh6IRLq9BZ",
        "outputId": "e77a0430-8180-47c2-db3b-3e55e87da6a0"
      },
      "execution_count": null,
      "outputs": [
        {
          "output_type": "stream",
          "name": "stdout",
          "text": [
            "Payment receipt saved to payment_receipt_20240201123754.pdf\n",
            "\n",
            "----- Receipt Details -----\n",
            "\n",
            "Date: 2024-02-01 12:37:54\n",
            "Customer: John Doe\n",
            "Amount Paid: $50.00\n",
            "Payment Method: Credit Card\n"
          ]
        }
      ]
    },
    {
      "cell_type": "markdown",
      "source": [
        "# 28. transformers library"
      ],
      "metadata": {
        "id": "GmGpExDsHSRO"
      }
    },
    {
      "cell_type": "code",
      "source": [
        "from transformers import pipeline\n",
        "model = pipeline(\"text-generation\", model = \"gpt2\")"
      ],
      "metadata": {
        "id": "vFu_2NL6dg9v"
      },
      "execution_count": null,
      "outputs": []
    },
    {
      "cell_type": "code",
      "source": [
        "sentence = model(\"Hi, My name is Abdul Kalam, I am here\",\n",
        "                 do_sample=True, top_k=50,\n",
        "                 temperature=0.9, max_length=200)\n",
        "\n",
        "for i in sentence:\n",
        "  print(i[\"generated_text\"])"
      ],
      "metadata": {
        "id": "3jiw7Erxd--E"
      },
      "execution_count": null,
      "outputs": []
    }
  ]
}